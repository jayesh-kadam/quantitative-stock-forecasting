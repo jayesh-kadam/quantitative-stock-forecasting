{
 "cells": [
  {
   "cell_type": "code",
   "execution_count": 21,
   "outputs": [
    {
     "name": "stdout",
     "output_type": "stream",
     "text": [
      "Requirement already satisfied: requests in /Library/Frameworks/Python.framework/Versions/3.11/lib/python3.11/site-packages (2.31.0)\r\n",
      "Requirement already satisfied: vaderSentiment in /Library/Frameworks/Python.framework/Versions/3.11/lib/python3.11/site-packages (3.3.2)\r\n",
      "Requirement already satisfied: python-dotenv in /Library/Frameworks/Python.framework/Versions/3.11/lib/python3.11/site-packages (1.1.0)\r\n",
      "Requirement already satisfied: sqlalchemy in /Library/Frameworks/Python.framework/Versions/3.11/lib/python3.11/site-packages (2.0.41)\r\n",
      "Requirement already satisfied: psycopg2-binary in /Library/Frameworks/Python.framework/Versions/3.11/lib/python3.11/site-packages (2.9.10)\r\n",
      "Requirement already satisfied: charset-normalizer<4,>=2 in /Library/Frameworks/Python.framework/Versions/3.11/lib/python3.11/site-packages (from requests) (3.3.2)\r\n",
      "Requirement already satisfied: idna<4,>=2.5 in /Library/Frameworks/Python.framework/Versions/3.11/lib/python3.11/site-packages (from requests) (3.7)\r\n",
      "Requirement already satisfied: urllib3<3,>=1.21.1 in /Library/Frameworks/Python.framework/Versions/3.11/lib/python3.11/site-packages (from requests) (2.2.1)\r\n",
      "Requirement already satisfied: certifi>=2017.4.17 in /Library/Frameworks/Python.framework/Versions/3.11/lib/python3.11/site-packages (from requests) (2024.2.2)\r\n",
      "Requirement already satisfied: typing-extensions>=4.6.0 in /Library/Frameworks/Python.framework/Versions/3.11/lib/python3.11/site-packages (from sqlalchemy) (4.11.0)\r\n",
      "\r\n",
      "\u001B[1m[\u001B[0m\u001B[34;49mnotice\u001B[0m\u001B[1;39;49m]\u001B[0m\u001B[39;49m A new release of pip is available: \u001B[0m\u001B[31;49m24.0\u001B[0m\u001B[39;49m -> \u001B[0m\u001B[32;49m25.1.1\u001B[0m\r\n",
      "\u001B[1m[\u001B[0m\u001B[34;49mnotice\u001B[0m\u001B[1;39;49m]\u001B[0m\u001B[39;49m To update, run: \u001B[0m\u001B[32;49mpip install --upgrade pip\u001B[0m\r\n"
     ]
    }
   ],
   "source": [
    "!pip install requests vaderSentiment python-dotenv sqlalchemy psycopg2-binary"
   ],
   "metadata": {
    "collapsed": false,
    "ExecuteTime": {
     "end_time": "2025-06-13T11:24:45.031410Z",
     "start_time": "2025-06-13T11:24:43.892940Z"
    }
   },
   "id": "b2af04dfabcdc725"
  },
  {
   "cell_type": "code",
   "execution_count": 22,
   "outputs": [],
   "source": [
    "import os\n",
    "import requests\n",
    "from datetime import datetime\n",
    "from sqlalchemy import create_engine, text\n",
    "from vaderSentiment.vaderSentiment import SentimentIntensityAnalyzer\n",
    "from dotenv import load_dotenv\n",
    "\n",
    "# Load environment variables from .env\n",
    "load_dotenv()\n",
    "\n",
    "# Load API key and DB URL\n",
    "GNEWS_API_KEY = os.getenv(\"GNEWS_API_KEY\")\n",
    "DATABASE_URL = os.getenv(\"DATABASE_URL\")\n",
    "\n",
    "# Assert to ensure the keys are loaded properly\n",
    "assert GNEWS_API_KEY is not None, \"GNEWS_API_KEY not loaded. Check your .env file.\"\n",
    "assert DATABASE_URL is not None, \"DATABASE_URL not loaded. Check your .env file.\"\n",
    "\n",
    "# Setup SQLAlchemy engine and VADER\n",
    "engine = create_engine(DATABASE_URL)\n",
    "vader = SentimentIntensityAnalyzer()\n"
   ],
   "metadata": {
    "collapsed": false,
    "ExecuteTime": {
     "end_time": "2025-06-13T11:24:45.048739Z",
     "start_time": "2025-06-13T11:24:45.038220Z"
    }
   },
   "id": "6278505ec75c3eb7"
  },
  {
   "cell_type": "code",
   "execution_count": 23,
   "outputs": [],
   "source": [
    "def analyze_sentiment(text):\n",
    "    score = vader.polarity_scores(text)['compound']\n",
    "    label = 'POS' if score > 0.05 else 'NEG' if score < -0.05 else 'NEU'\n",
    "    return score, label, 'VADER', None\n",
    "\n",
    "def insert_sentiment(data_dict):\n",
    "    with engine.begin() as conn:\n",
    "        query = text(\"\"\"\n",
    "            INSERT INTO sentiment_data (\n",
    "                ticker, source, api_vendor, date, headline, sentiment_score,\n",
    "                sentiment_label, article_url, author, platform_tags,\n",
    "                model_used, confidence\n",
    "            ) VALUES (\n",
    "                :ticker, :source, :api_vendor, :date, :headline, :sentiment_score,\n",
    "                :sentiment_label, :article_url, :author, :platform_tags,\n",
    "                :model_used, :confidence\n",
    "            )\n",
    "        \"\"\")\n",
    "        conn.execute(query, data_dict)\n"
   ],
   "metadata": {
    "collapsed": false,
    "ExecuteTime": {
     "end_time": "2025-06-13T11:24:45.053499Z",
     "start_time": "2025-06-13T11:24:45.050457Z"
    }
   },
   "id": "75cd8f56c5b5bb3c"
  },
  {
   "cell_type": "code",
   "execution_count": 24,
   "outputs": [],
   "source": [
    "def fetch_gnews_sentiment(ticker):\n",
    "    url = f\"https://gnews.io/api/v4/search?q={ticker}&token={GNEWS_API_KEY}&lang=en&max=10\"\n",
    "    response = requests.get(url)\n",
    "\n",
    "    if response.status_code != 200:\n",
    "        raise Exception(f\"GNews API failed: {response.status_code} - {response.text}\")\n",
    "    \n",
    "    articles = response.json().get(\"articles\", [])\n",
    "    \n",
    "    for article in articles:\n",
    "        score, label, model, conf = analyze_sentiment(article[\"title\"])\n",
    "        data = {\n",
    "            \"ticker\": ticker,\n",
    "            \"source\": article.get(\"source\", {}).get(\"name\", \"GNews\"),\n",
    "            \"api_vendor\": \"GNews API\",\n",
    "            \"date\": datetime.strptime(article[\"publishedAt\"][:10], \"%Y-%m-%d\").date(),\n",
    "            \"headline\": article[\"title\"],\n",
    "            \"sentiment_score\": score,\n",
    "            \"sentiment_label\": label,\n",
    "            \"article_url\": article[\"url\"],\n",
    "            \"author\": article.get(\"author\") or \"Unknown\",\n",
    "            \"platform_tags\": \"GNews\",\n",
    "            \"model_used\": model,\n",
    "            \"confidence\": conf\n",
    "        }\n",
    "        insert_sentiment(data)\n",
    "    \n",
    "    print(f\"Inserted sentiment records for {ticker} from GNews\")\n"
   ],
   "metadata": {
    "collapsed": false,
    "ExecuteTime": {
     "end_time": "2025-06-13T11:24:45.059158Z",
     "start_time": "2025-06-13T11:24:45.057934Z"
    }
   },
   "id": "d13da1a67dbda8c0"
  },
  {
   "cell_type": "code",
   "execution_count": 25,
   "outputs": [
    {
     "name": "stdout",
     "output_type": "stream",
     "text": [
      "Inserted sentiment records for NVDA from GNews\n",
      "Inserted sentiment records for TSLA from GNews\n",
      "Inserted sentiment records for AAPL from GNews\n"
     ]
    }
   ],
   "source": [
    "for ticker in ['NVDA', 'TSLA', 'AAPL']:\n",
    "    fetch_gnews_sentiment(ticker)\n"
   ],
   "metadata": {
    "collapsed": false,
    "ExecuteTime": {
     "end_time": "2025-06-13T11:24:45.984532Z",
     "start_time": "2025-06-13T11:24:45.067164Z"
    }
   },
   "id": "3852924688d82fed"
  },
  {
   "cell_type": "code",
   "execution_count": 25,
   "outputs": [],
   "source": [],
   "metadata": {
    "collapsed": false,
    "ExecuteTime": {
     "end_time": "2025-06-13T11:24:45.988616Z",
     "start_time": "2025-06-13T11:24:45.985290Z"
    }
   },
   "id": "8697632f569f8586"
  }
 ],
 "metadata": {
  "kernelspec": {
   "display_name": "Python 3",
   "language": "python",
   "name": "python3"
  },
  "language_info": {
   "codemirror_mode": {
    "name": "ipython",
    "version": 2
   },
   "file_extension": ".py",
   "mimetype": "text/x-python",
   "name": "python",
   "nbconvert_exporter": "python",
   "pygments_lexer": "ipython2",
   "version": "2.7.6"
  }
 },
 "nbformat": 4,
 "nbformat_minor": 5
}
