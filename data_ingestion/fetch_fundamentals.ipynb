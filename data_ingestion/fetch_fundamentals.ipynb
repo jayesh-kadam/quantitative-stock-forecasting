{
 "cells": [
  {
   "cell_type": "code",
   "id": "initial_id",
   "metadata": {
    "collapsed": true,
    "ExecuteTime": {
     "end_time": "2025-06-20T10:38:22.271712Z",
     "start_time": "2025-06-20T10:38:21.891845Z"
    }
   },
   "source": [
    "\"\"\"\n",
    "fetch_fundamentals.py\n",
    "\n",
    "Fetches fundamental indicators for a list of tickers using Financial Modeling Prep API\n",
    "and stores the results in PostgreSQL.\n",
    "\"\"\"\n",
    "\n",
    "import os\n",
    "import requests\n",
    "import pandas as pd\n",
    "from datetime import datetime\n",
    "from sqlalchemy import create_engine\n",
    "from sqlalchemy.orm import sessionmaker\n",
    "from dotenv import load_dotenv\n",
    "\n",
    "# Load environment variables\n",
    "load_dotenv()\n",
    "DATABASE_URL = os.getenv(\"DATABASE_URL\")\n",
    "FMP_API_KEY = os.getenv(\"FMP_API_KEY\")\n",
    "\n",
    "# Setup DB connection\n",
    "engine = create_engine(DATABASE_URL)\n",
    "Session = sessionmaker(bind=engine)\n",
    "session = Session()\n",
    "\n",
    "def fetch_fundamentals(ticker):\n",
    "    url = f\"https://financialmodelingprep.com/api/v3/key-metrics/{ticker}?limit=100&apikey={FMP_API_KEY}\"\n",
    "    response = requests.get(url)\n",
    "    data = response.json()\n",
    "    df = pd.DataFrame(data)\n",
    "\n",
    "    if df.empty:\n",
    "        print(f\"No fundamentals for {ticker}\")\n",
    "        return None\n",
    "\n",
    "    df[\"ticker\"] = ticker\n",
    "    df[\"fetched_at\"] = datetime.now()\n",
    "    return df\n",
    "\n",
    "# Tickers to fetch\n",
    "tickers = [\"NVDA\"]\n",
    "\n",
    "all_data = []\n",
    "for ticker in tickers:\n",
    "    df = fetch_fundamentals(ticker)\n",
    "    if df is not None:\n",
    "        all_data.append(df)\n",
    "\n",
    "if all_data:\n",
    "    final_df = pd.concat(all_data)\n",
    "    final_df.to_sql(\"fundamental_data\", engine, if_exists=\"replace\", index=False)\n",
    "    print(\"✅ Fundamental data saved to 'fundamental_data' table in PostgreSQL.\")\n",
    "else:\n",
    "    print(\"⚠️ No fundamental data retrieved.\")\n"
   ],
   "outputs": [
    {
     "name": "stdout",
     "output_type": "stream",
     "text": [
      "✅ Fundamental data saved to 'fundamental_data' table in PostgreSQL.\n"
     ]
    }
   ],
   "execution_count": 8
  }
 ],
 "metadata": {
  "kernelspec": {
   "display_name": "Python 3",
   "language": "python",
   "name": "python3"
  },
  "language_info": {
   "codemirror_mode": {
    "name": "ipython",
    "version": 2
   },
   "file_extension": ".py",
   "mimetype": "text/x-python",
   "name": "python",
   "nbconvert_exporter": "python",
   "pygments_lexer": "ipython2",
   "version": "2.7.6"
  }
 },
 "nbformat": 4,
 "nbformat_minor": 5
}
