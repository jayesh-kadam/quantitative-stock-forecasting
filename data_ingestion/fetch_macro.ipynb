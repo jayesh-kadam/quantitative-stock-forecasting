{
 "cells": [
  {
   "cell_type": "code",
   "id": "initial_id",
   "metadata": {
    "collapsed": true,
    "ExecuteTime": {
     "end_time": "2025-06-17T10:30:07.571605Z",
     "start_time": "2025-06-17T10:30:06.123328Z"
    }
   },
   "source": [
    "\"\"\"\n",
    "fetch_macro.py\n",
    "\n",
    "Fetches macroeconomic data (Interest Rate, CPI, Unemployment) from FRED API\n",
    "and stores it in PostgreSQL.\n",
    "\"\"\"\n",
    "\n",
    "import os\n",
    "import requests\n",
    "import pandas as pd\n",
    "from datetime import datetime\n",
    "from sqlalchemy import create_engine\n",
    "from sqlalchemy.orm import sessionmaker\n",
    "from dotenv import load_dotenv\n",
    "\n",
    "# Load environment variables\n",
    "load_dotenv()\n",
    "DATABASE_URL = os.getenv(\"DATABASE_URL\")\n",
    "FRED_API_KEY = os.getenv(\"FRED_API_KEY\")\n",
    "\n",
    "# Setup DB connection\n",
    "engine = create_engine(DATABASE_URL)\n",
    "Session = sessionmaker(bind=engine)\n",
    "session = Session()\n",
    "\n",
    "# FRED series IDs\n",
    "series = {\n",
    "    \"interest_rate\": \"FEDFUNDS\",           # Federal Funds Rate\n",
    "    \"cpi\": \"CPIAUCNS\",                     # Consumer Price Index\n",
    "    \"unemployment\": \"UNRATE\"              # Unemployment Rate\n",
    "}\n",
    "\n",
    "def fetch_fred_series(series_id):\n",
    "    url = f\"https://api.stlouisfed.org/fred/series/observations?series_id={series_id}&api_key={FRED_API_KEY}&file_type=json\"\n",
    "    response = requests.get(url)\n",
    "    data = response.json().get(\"observations\", [])\n",
    "    df = pd.DataFrame(data)[[\"date\", \"value\"]]\n",
    "    df[\"value\"] = pd.to_numeric(df[\"value\"], errors=\"coerce\")\n",
    "    df[\"date\"] = pd.to_datetime(df[\"date\"])\n",
    "    return df.set_index(\"date\")\n",
    "\n",
    "# Fetch and combine\n",
    "macro_data = pd.DataFrame()\n",
    "for name, series_id in series.items():\n",
    "    df = fetch_fred_series(series_id)\n",
    "    df.rename(columns={\"value\": name}, inplace=True)\n",
    "    macro_data = pd.concat([macro_data, df], axis=1)\n",
    "\n",
    "macro_data.reset_index(inplace=True)\n",
    "macro_data[\"fetched_at\"] = datetime.now()\n",
    "\n",
    "# Store in PostgreSQL\n",
    "macro_data.to_sql(\"macro_data\", engine, if_exists=\"replace\", index=False)\n",
    "print(\"✅ Macro data saved to 'macro_data' table in PostgreSQL.\")\n"
   ],
   "outputs": [
    {
     "name": "stdout",
     "output_type": "stream",
     "text": [
      "✅ Macro data saved to 'macro_data' table in PostgreSQL.\n"
     ]
    }
   ],
   "execution_count": 8
  }
 ],
 "metadata": {
  "kernelspec": {
   "display_name": "Python 3",
   "language": "python",
   "name": "python3"
  },
  "language_info": {
   "codemirror_mode": {
    "name": "ipython",
    "version": 2
   },
   "file_extension": ".py",
   "mimetype": "text/x-python",
   "name": "python",
   "nbconvert_exporter": "python",
   "pygments_lexer": "ipython2",
   "version": "2.7.6"
  }
 },
 "nbformat": 4,
 "nbformat_minor": 5
}
