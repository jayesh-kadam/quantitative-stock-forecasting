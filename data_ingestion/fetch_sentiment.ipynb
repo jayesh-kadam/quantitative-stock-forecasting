{
 "cells": [
  {
   "cell_type": "code",
   "source": [
    "!pip install requests vaderSentiment python-dotenv sqlalchemy finnhub-python psycopg2-binary\n"
   ],
   "metadata": {
    "collapsed": false,
    "ExecuteTime": {
     "end_time": "2025-06-20T10:38:45.458543Z",
     "start_time": "2025-06-20T10:38:44.952077Z"
    }
   },
   "id": "34c8a7157a625f6e",
   "outputs": [
    {
     "name": "stdout",
     "output_type": "stream",
     "text": [
      "Requirement already satisfied: requests in /Users/jayeshkadam/Library/Mobile Documents/com~apple~CloudDocs/Projects/Quantitative Stock Forecasting System/.venv/lib/python3.13/site-packages (2.32.3)\r\n",
      "Requirement already satisfied: vaderSentiment in /Users/jayeshkadam/Library/Mobile Documents/com~apple~CloudDocs/Projects/Quantitative Stock Forecasting System/.venv/lib/python3.13/site-packages (3.3.2)\r\n",
      "Requirement already satisfied: python-dotenv in /Users/jayeshkadam/Library/Mobile Documents/com~apple~CloudDocs/Projects/Quantitative Stock Forecasting System/.venv/lib/python3.13/site-packages (1.1.0)\r\n",
      "Requirement already satisfied: sqlalchemy in /Users/jayeshkadam/Library/Mobile Documents/com~apple~CloudDocs/Projects/Quantitative Stock Forecasting System/.venv/lib/python3.13/site-packages (2.0.41)\r\n",
      "Requirement already satisfied: finnhub-python in /Users/jayeshkadam/Library/Mobile Documents/com~apple~CloudDocs/Projects/Quantitative Stock Forecasting System/.venv/lib/python3.13/site-packages (2.4.23)\r\n",
      "Requirement already satisfied: psycopg2-binary in /Users/jayeshkadam/Library/Mobile Documents/com~apple~CloudDocs/Projects/Quantitative Stock Forecasting System/.venv/lib/python3.13/site-packages (2.9.10)\r\n",
      "Requirement already satisfied: charset-normalizer<4,>=2 in /Users/jayeshkadam/Library/Mobile Documents/com~apple~CloudDocs/Projects/Quantitative Stock Forecasting System/.venv/lib/python3.13/site-packages (from requests) (3.4.2)\r\n",
      "Requirement already satisfied: idna<4,>=2.5 in /Users/jayeshkadam/Library/Mobile Documents/com~apple~CloudDocs/Projects/Quantitative Stock Forecasting System/.venv/lib/python3.13/site-packages (from requests) (3.10)\r\n",
      "Requirement already satisfied: urllib3<3,>=1.21.1 in /Users/jayeshkadam/Library/Mobile Documents/com~apple~CloudDocs/Projects/Quantitative Stock Forecasting System/.venv/lib/python3.13/site-packages (from requests) (2.4.0)\r\n",
      "Requirement already satisfied: certifi>=2017.4.17 in /Users/jayeshkadam/Library/Mobile Documents/com~apple~CloudDocs/Projects/Quantitative Stock Forecasting System/.venv/lib/python3.13/site-packages (from requests) (2025.4.26)\r\n",
      "Requirement already satisfied: typing-extensions>=4.6.0 in /Users/jayeshkadam/Library/Mobile Documents/com~apple~CloudDocs/Projects/Quantitative Stock Forecasting System/.venv/lib/python3.13/site-packages (from sqlalchemy) (4.14.0)\r\n"
     ]
    }
   ],
   "execution_count": 37
  },
  {
   "cell_type": "code",
   "source": [
    "import os\n",
    "import requests\n",
    "from datetime import datetime, timezone\n",
    "from sqlalchemy import create_engine, text\n",
    "from vaderSentiment.vaderSentiment import SentimentIntensityAnalyzer\n",
    "from dotenv import load_dotenv\n",
    "import finnhub\n",
    "\n",
    "# Load environment variables\n",
    "load_dotenv()\n",
    "\n",
    "DATABASE_URL = os.getenv(\"DATABASE_URL\")\n",
    "FINNHUB_API_KEY = os.getenv(\"FINNHUB_API_KEY\")\n",
    "GNEWS_API_KEY = os.getenv(\"GNEWS_API_KEY\")\n",
    "\n",
    "assert DATABASE_URL and FINNHUB_API_KEY and GNEWS_API_KEY, \"Missing environment variables!\"\n",
    "\n",
    "# Setup\n",
    "engine = create_engine(DATABASE_URL)\n",
    "finnhub_client = finnhub.Client(api_key=FINNHUB_API_KEY)\n",
    "vader = SentimentIntensityAnalyzer()\n",
    "\n",
    "def analyze_sentiment(text):\n",
    "    scores = vader.polarity_scores(text)\n",
    "    score = scores['compound']\n",
    "    label = 'POS' if score > 0.05 else 'NEG' if score < -0.05 else 'NEU'\n",
    "    confidence = abs(score)  # Proxy confidence\n",
    "    return score, label, 'VADER', confidence\n",
    "\n",
    "def insert_sentiment(data_dict):\n",
    "    with engine.begin() as conn:\n",
    "        query = text(\"\"\"\n",
    "            INSERT INTO sentiment_data (\n",
    "                ticker, source, api_vendor, date, headline, sentiment_score,\n",
    "                sentiment_label, article_url, author, platform_tags,\n",
    "                model_used, confidence, created_at\n",
    "            )\n",
    "            VALUES (\n",
    "                :ticker, :source, :api_vendor, :date, :headline, :sentiment_score,\n",
    "                :sentiment_label, :article_url, :author, :platform_tags,\n",
    "                :model_used, :confidence, :created_at\n",
    "            )\n",
    "            ON CONFLICT (ticker, date, headline)\n",
    "            DO UPDATE SET\n",
    "                sentiment_score = EXCLUDED.sentiment_score,\n",
    "                sentiment_label = EXCLUDED.sentiment_label,\n",
    "                article_url = EXCLUDED.article_url,\n",
    "                confidence = EXCLUDED.confidence,\n",
    "                created_at = EXCLUDED.created_at;\n",
    "        \"\"\")\n",
    "        conn.execute(query, data_dict)\n",
    "\n",
    "def fetch_finnhub_sentiment(ticker):\n",
    "    try:\n",
    "        news = finnhub_client.company_news(ticker, _from='2024-06-01', to=datetime.today().strftime('%Y-%m-%d'))\n",
    "        for item in news:\n",
    "            if not item.get('headline'):\n",
    "                continue\n",
    "            score, label, model, conf = analyze_sentiment(item['headline'])\n",
    "            data = {\n",
    "                'ticker': ticker,\n",
    "                'source': item.get('source', 'Finnhub'),\n",
    "                'api_vendor': 'Finnhub',\n",
    "                'date': datetime.fromtimestamp(item['datetime']).date(),\n",
    "                'headline': item['headline'],\n",
    "                'sentiment_score': score,\n",
    "                'sentiment_label': label,\n",
    "                'article_url': item.get('url'),\n",
    "                'author': item.get('source'),\n",
    "                'platform_tags': 'Finnhub',\n",
    "                'model_used': model,\n",
    "                'confidence': conf,\n",
    "                'created_at': datetime.now(timezone.utc).isoformat()\n",
    "            }\n",
    "            insert_sentiment(data)\n",
    "        print(f\"✅ Finnhub: Inserted sentiment records for {ticker}\")\n",
    "    except Exception as e:\n",
    "        print(f\"❌ Error fetching Finnhub data for {ticker}: {e}\")\n",
    "\n",
    "def fetch_gnews_sentiment(ticker):\n",
    "    url = f\"https://gnews.io/api/v4/search?q={ticker}&token={GNEWS_API_KEY}&lang=en&max=10\"\n",
    "    response = requests.get(url)\n",
    "\n",
    "    if response.status_code != 200:\n",
    "        raise Exception(f\"GNews API failed: {response.status_code} - {response.text}\")\n",
    "\n",
    "    articles = response.json().get(\"articles\", [])\n",
    "    for article in articles:\n",
    "        score, label, model, conf = analyze_sentiment(article[\"title\"])\n",
    "        data = {\n",
    "            \"ticker\": ticker,\n",
    "            \"source\": article.get(\"source\", {}).get(\"name\", \"GNews\"),\n",
    "            \"api_vendor\": \"GNews API\",\n",
    "            \"date\": datetime.strptime(article[\"publishedAt\"][:10], \"%Y-%m-%d\").date(),\n",
    "            \"headline\": article[\"title\"],\n",
    "            \"sentiment_score\": score,\n",
    "            \"sentiment_label\": label,\n",
    "            \"article_url\": article[\"url\"],\n",
    "            \"author\": article.get(\"author\") or \"Unknown\",\n",
    "            \"platform_tags\": \"GNews\",\n",
    "            \"model_used\": model,\n",
    "            \"confidence\": conf,\n",
    "            \"created_at\": datetime.now(timezone.utc).isoformat()\n",
    "        }\n",
    "        insert_sentiment(data)\n",
    "    print(f\"✅ GNews: Inserted sentiment records for {ticker}\")\n",
    "\n",
    "# Run for selected tickers\n",
    "tickers = ['NVDA']\n",
    "for ticker in tickers:\n",
    "    fetch_finnhub_sentiment(ticker)\n",
    "    fetch_gnews_sentiment(ticker)\n"
   ],
   "metadata": {
    "collapsed": false,
    "ExecuteTime": {
     "end_time": "2025-06-20T10:38:46.237552Z",
     "start_time": "2025-06-20T10:38:45.465986Z"
    }
   },
   "id": "75154d6fd7b81675",
   "outputs": [
    {
     "name": "stdout",
     "output_type": "stream",
     "text": [
      "✅ Finnhub: Inserted sentiment records for NVDA\n",
      "✅ GNews: Inserted sentiment records for NVDA\n"
     ]
    }
   ],
   "execution_count": 38
  }
 ],
 "metadata": {
  "kernelspec": {
   "display_name": "Python 3",
   "language": "python",
   "name": "python3"
  },
  "language_info": {
   "codemirror_mode": {
    "name": "ipython",
    "version": 2
   },
   "file_extension": ".py",
   "mimetype": "text/x-python",
   "name": "python",
   "nbconvert_exporter": "python",
   "pygments_lexer": "ipython2",
   "version": "2.7.6"
  }
 },
 "nbformat": 4,
 "nbformat_minor": 5
}
