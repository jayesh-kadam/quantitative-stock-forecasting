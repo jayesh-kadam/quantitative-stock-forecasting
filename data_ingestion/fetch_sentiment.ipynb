{
 "cells": [
  {
   "cell_type": "code",
   "execution_count": 53,
   "outputs": [
    {
     "name": "stdout",
     "output_type": "stream",
     "text": [
      "Requirement already satisfied: finnhub-python in /Library/Frameworks/Python.framework/Versions/3.11/lib/python3.11/site-packages (2.4.23)\r\n",
      "Requirement already satisfied: sqlalchemy in /Library/Frameworks/Python.framework/Versions/3.11/lib/python3.11/site-packages (2.0.41)\r\n",
      "Requirement already satisfied: vaderSentiment in /Library/Frameworks/Python.framework/Versions/3.11/lib/python3.11/site-packages (3.3.2)\r\n",
      "Requirement already satisfied: python-dotenv in /Library/Frameworks/Python.framework/Versions/3.11/lib/python3.11/site-packages (1.1.0)\r\n",
      "Requirement already satisfied: requests>=2.22.0 in /Library/Frameworks/Python.framework/Versions/3.11/lib/python3.11/site-packages (from finnhub-python) (2.31.0)\r\n",
      "Requirement already satisfied: typing-extensions>=4.6.0 in /Library/Frameworks/Python.framework/Versions/3.11/lib/python3.11/site-packages (from sqlalchemy) (4.11.0)\r\n",
      "Requirement already satisfied: charset-normalizer<4,>=2 in /Library/Frameworks/Python.framework/Versions/3.11/lib/python3.11/site-packages (from requests>=2.22.0->finnhub-python) (3.3.2)\r\n",
      "Requirement already satisfied: idna<4,>=2.5 in /Library/Frameworks/Python.framework/Versions/3.11/lib/python3.11/site-packages (from requests>=2.22.0->finnhub-python) (3.7)\r\n",
      "Requirement already satisfied: urllib3<3,>=1.21.1 in /Library/Frameworks/Python.framework/Versions/3.11/lib/python3.11/site-packages (from requests>=2.22.0->finnhub-python) (2.2.1)\r\n",
      "Requirement already satisfied: certifi>=2017.4.17 in /Library/Frameworks/Python.framework/Versions/3.11/lib/python3.11/site-packages (from requests>=2.22.0->finnhub-python) (2024.2.2)\r\n",
      "\r\n",
      "\u001B[1m[\u001B[0m\u001B[34;49mnotice\u001B[0m\u001B[1;39;49m]\u001B[0m\u001B[39;49m A new release of pip is available: \u001B[0m\u001B[31;49m24.0\u001B[0m\u001B[39;49m -> \u001B[0m\u001B[32;49m25.1.1\u001B[0m\r\n",
      "\u001B[1m[\u001B[0m\u001B[34;49mnotice\u001B[0m\u001B[1;39;49m]\u001B[0m\u001B[39;49m To update, run: \u001B[0m\u001B[32;49mpip install --upgrade pip\u001B[0m\r\n"
     ]
    }
   ],
   "source": [
    "!pip install finnhub-python sqlalchemy vaderSentiment python-dotenv\n"
   ],
   "metadata": {
    "collapsed": false,
    "ExecuteTime": {
     "end_time": "2025-06-13T11:06:39.856748Z",
     "start_time": "2025-06-13T11:06:38.230590Z"
    }
   },
   "id": "34c8a7157a625f6e"
  },
  {
   "cell_type": "code",
   "execution_count": 54,
   "outputs": [],
   "source": [
    "import os\n",
    "import finnhub\n",
    "from dotenv import load_dotenv\n",
    "from sqlalchemy import create_engine, text\n",
    "from vaderSentiment.vaderSentiment import SentimentIntensityAnalyzer\n",
    "from datetime import datetime\n",
    "\n",
    "# Load environment variables\n",
    "load_dotenv()\n",
    "FINNHUB_API_KEY = os.getenv(\"FINNHUB_API_KEY\")\n",
    "DATABASE_URL = os.getenv(\"DATABASE_URL\")\n",
    "\n",
    "from models.sentiment_data_model import Base\n",
    "Base.metadata.create_all(engine)\n",
    "\n",
    "# Setup Finnhub client\n",
    "finnhub_client = finnhub.Client(api_key=FINNHUB_API_KEY)\n",
    "\n",
    "# Setup DB engine\n",
    "engine = create_engine(DATABASE_URL)\n",
    "\n",
    "# VADER setup\n",
    "vader = SentimentIntensityAnalyzer()\n",
    "\n"
   ],
   "metadata": {
    "collapsed": false,
    "ExecuteTime": {
     "end_time": "2025-06-13T11:06:40.734033Z",
     "start_time": "2025-06-13T11:06:40.676629Z"
    }
   },
   "id": "d8304f6dbe04ca63"
  },
  {
   "cell_type": "code",
   "execution_count": 55,
   "outputs": [],
   "source": [
    "load_dotenv()\n",
    "FINNHUB_API_KEY = os.getenv(\"FINNHUB_API_KEY\")\n",
    "DATABASE_URL = os.getenv(\"DATABASE_URL\")\n"
   ],
   "metadata": {
    "collapsed": false,
    "ExecuteTime": {
     "end_time": "2025-06-13T11:06:41.846761Z",
     "start_time": "2025-06-13T11:06:41.838815Z"
    }
   },
   "id": "184789e8a859b3be"
  },
  {
   "cell_type": "code",
   "execution_count": 56,
   "outputs": [],
   "source": [
    "def analyze_sentiment(text):\n",
    "    score = vader.polarity_scores(text)['compound']\n",
    "    label = 'POS' if score > 0.05 else 'NEG' if score < -0.05 else 'NEU'\n",
    "    return score, label, 'VADER', None\n",
    "\n",
    "def insert_sentiment(data_dict):\n",
    "    with engine.begin() as conn:\n",
    "        query = text(\"\"\"\n",
    "            INSERT INTO sentiment_data (\n",
    "                ticker, source, api_vendor, date, headline, sentiment_score,\n",
    "                sentiment_label, article_url, author, platform_tags,\n",
    "                model_used, confidence, created_at\n",
    "            ) VALUES (\n",
    "                :ticker, :source, :api_vendor, :date, :headline, :sentiment_score,\n",
    "                :sentiment_label, :article_url, :author, :platform_tags,\n",
    "                :model_used, :confidence, :created_at\n",
    "            )\n",
    "        \"\"\")\n",
    "        conn.execute(query, data_dict)\n"
   ],
   "metadata": {
    "collapsed": false,
    "ExecuteTime": {
     "end_time": "2025-06-13T11:06:43.258961Z",
     "start_time": "2025-06-13T11:06:43.253654Z"
    }
   },
   "id": "39c5751507542fe9"
  },
  {
   "cell_type": "code",
   "execution_count": 57,
   "outputs": [],
   "source": [
    "def fetch_finnhub_sentiment(ticker):\n",
    "    try:\n",
    "        news = finnhub_client.company_news(ticker, _from='2024-06-01', to=datetime.today().strftime('%Y-%m-%d'))\n",
    "        for item in news:\n",
    "            if not item.get('headline'):\n",
    "                continue\n",
    "\n",
    "            score, label, model, conf = analyze_sentiment(item['headline'])\n",
    "            data = {\n",
    "                'ticker': ticker,\n",
    "                'source': item.get('source', 'Finnhub'),\n",
    "                'api_vendor': 'Finnhub',\n",
    "                'date': datetime.fromtimestamp(item['datetime']).date(),\n",
    "                'headline': item['headline'],\n",
    "                'sentiment_score': score,\n",
    "                'sentiment_label': label,\n",
    "                'article_url': item.get('url'),\n",
    "                'author': item.get('source'),\n",
    "                'platform_tags': 'Finnhub',\n",
    "                'model_used': model,\n",
    "                'confidence': conf,\n",
    "                'created_at': datetime.utcnow().isoformat()\n",
    "            }\n",
    "            insert_sentiment(data)\n",
    "        print(f\"Inserted sentiment records for {ticker} from Finnhub\")\n",
    "    except Exception as e:\n",
    "        print(f\"Error fetching Finnhub data for {ticker}: {e}\")\n"
   ],
   "metadata": {
    "collapsed": false,
    "ExecuteTime": {
     "end_time": "2025-06-13T11:06:44.463107Z",
     "start_time": "2025-06-13T11:06:44.458467Z"
    }
   },
   "id": "f59fad1934a5f4fe"
  },
  {
   "cell_type": "code",
   "execution_count": 58,
   "outputs": [
    {
     "name": "stdout",
     "output_type": "stream",
     "text": [
      "Inserted sentiment records for NVDA from Finnhub\n"
     ]
    }
   ],
   "source": [
    "fetch_finnhub_sentiment(\"NVDA\")\n"
   ],
   "metadata": {
    "collapsed": false,
    "ExecuteTime": {
     "end_time": "2025-06-13T11:06:46.261512Z",
     "start_time": "2025-06-13T11:06:45.537400Z"
    }
   },
   "id": "a454be32bd00f080"
  },
  {
   "cell_type": "code",
   "execution_count": 45,
   "outputs": [],
   "source": [],
   "metadata": {
    "collapsed": false,
    "ExecuteTime": {
     "end_time": "2025-06-13T10:56:26.405019Z",
     "start_time": "2025-06-13T10:56:26.399855Z"
    }
   },
   "id": "75154d6fd7b81675"
  }
 ],
 "metadata": {
  "kernelspec": {
   "display_name": "Python 3",
   "language": "python",
   "name": "python3"
  },
  "language_info": {
   "codemirror_mode": {
    "name": "ipython",
    "version": 2
   },
   "file_extension": ".py",
   "mimetype": "text/x-python",
   "name": "python",
   "nbconvert_exporter": "python",
   "pygments_lexer": "ipython2",
   "version": "2.7.6"
  }
 },
 "nbformat": 4,
 "nbformat_minor": 5
}
