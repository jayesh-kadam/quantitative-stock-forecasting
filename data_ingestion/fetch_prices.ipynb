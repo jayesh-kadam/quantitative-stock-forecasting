{
 "cells": [
  {
   "metadata": {
    "ExecuteTime": {
     "end_time": "2025-06-17T11:35:00.234836Z",
     "start_time": "2025-06-17T11:34:52.332437Z"
    }
   },
   "cell_type": "code",
   "source": [
    "\"\"\"\n",
    "fetch_prices_yahoo.py\n",
    "\n",
    "Fetches full historical daily stock price data using yfinance and stores it in PostgreSQL.\n",
    "\"\"\"\n",
    "\n",
    "import os\n",
    "import yfinance as yf\n",
    "from datetime import datetime, UTC\n",
    "from sqlalchemy import create_engine\n",
    "from sqlalchemy.orm import sessionmaker\n",
    "from dotenv import load_dotenv\n",
    "from database.price_data import Base, PriceData\n",
    "\n",
    "# Load environment variables\n",
    "load_dotenv()\n",
    "\n",
    "# Configuration\n",
    "DATABASE_URL = os.getenv(\"DATABASE_URL\")\n",
    "\n",
    "# SQLAlchemy setup\n",
    "engine = create_engine(DATABASE_URL)\n",
    "Session = sessionmaker(bind=engine)\n",
    "session = Session()\n",
    "\n",
    "def fetch_yahoo_prices(ticker):\n",
    "    \"\"\"Fetch full historical data using yfinance and insert into PostgreSQL.\"\"\"\n",
    "    df = yf.download(ticker, start=\"1990-01-01\", progress=False, auto_adjust=False)\n",
    "\n",
    "    if df.empty:\n",
    "        raise ValueError(f\"No data returned for ticker {ticker}\")\n",
    "\n",
    "    records = []\n",
    "    for date, row in df.iterrows():\n",
    "        record = PriceData(\n",
    "            ticker=ticker,\n",
    "            date=date.date(),\n",
    "            open=float(row['Open'].item()),\n",
    "            high=float(row['High'].item()),\n",
    "            low=float(row['Low'].item()),\n",
    "            close=float(row['Close'].item()),\n",
    "            adjusted_close=float(row['Adj Close'].item()),\n",
    "            volume=int(row['Volume'].item()),\n",
    "            source_api='Yahoo Finance',\n",
    "            interval='1d',\n",
    "            currency='USD',\n",
    "            data_type='historical',\n",
    "            created_at=datetime.now(UTC)\n",
    "        )\n",
    "\n",
    "        # Delete if duplicate exists\n",
    "        session.query(PriceData).filter_by(\n",
    "            ticker=record.ticker,\n",
    "            date=record.date,\n",
    "            interval=record.interval,\n",
    "            source_api=record.source_api\n",
    "        ).delete()\n",
    "\n",
    "        records.append(record)\n",
    "\n",
    "    session.bulk_save_objects(records)\n",
    "    session.commit()\n",
    "    print(f\"Inserted {len(records)} price records for {ticker} from Yahoo Finance.\")\n",
    "\n",
    "if __name__ == '__main__':\n",
    "    Base.metadata.create_all(engine)\n",
    "    fetch_yahoo_prices('NVDA')  # Full history for NVIDIA\n"
   ],
   "id": "8df4b6d5f6b3b053",
   "outputs": [
    {
     "name": "stdout",
     "output_type": "stream",
     "text": [
      "Inserted 6641 price records for NVDA from Yahoo Finance.\n"
     ]
    }
   ],
   "execution_count": 28
  }
 ],
 "metadata": {
  "kernelspec": {
   "display_name": "Python 3",
   "language": "python",
   "name": "python3"
  },
  "language_info": {
   "codemirror_mode": {
    "name": "ipython",
    "version": 2
   },
   "file_extension": ".py",
   "mimetype": "text/x-python",
   "name": "python",
   "nbconvert_exporter": "python",
   "pygments_lexer": "ipython2",
   "version": "2.7.6"
  }
 },
 "nbformat": 4,
 "nbformat_minor": 5
}
