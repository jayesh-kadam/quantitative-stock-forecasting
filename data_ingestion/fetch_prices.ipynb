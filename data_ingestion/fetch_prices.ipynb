{
 "cells": [
  {
   "metadata": {
    "ExecuteTime": {
     "end_time": "2025-06-09T11:29:33.044148Z",
     "start_time": "2025-06-09T11:29:33.020744Z"
    }
   },
   "cell_type": "code",
   "source": [
    "import os\n",
    "import requests\n",
    "from sqlalchemy import create_engine\n",
    "from sqlalchemy.orm import sessionmaker\n",
    "from datetime import datetime\n",
    "from models.price_data_model import Base, PriceData\n",
    "from dotenv import load_dotenv\n",
    "\n",
    "# Load environment variables\n",
    "load_dotenv()"
   ],
   "id": "f914e296a42f5407",
   "outputs": [
    {
     "data": {
      "text/plain": [
       "True"
      ]
     },
     "execution_count": 15,
     "metadata": {},
     "output_type": "execute_result"
    }
   ],
   "execution_count": 15
  },
  {
   "metadata": {
    "ExecuteTime": {
     "end_time": "2025-06-09T11:34:08.063958Z",
     "start_time": "2025-06-09T11:34:07.798932Z"
    }
   },
   "cell_type": "code",
   "source": [
    "\n",
    "# Load environment variables\n",
    "load_dotenv()\n",
    "\n",
    "# Configuration\n",
    "API_KEY = os.getenv(\"ALPHA_VANTAGE_API_KEY\")\n",
    "BASE_URL = 'https://www.alphavantage.co/query'\n",
    "DATABASE_URL = os.getenv(\"DATABASE_URL\")\n",
    "\n",
    "# SQLAlchemy setup\n",
    "engine = create_engine(DATABASE_URL)\n",
    "Session = sessionmaker(bind=engine)\n",
    "session = Session()\n",
    "\n",
    "def fetch_daily_prices(ticker):\n",
    "    \"\"\"Fetch daily adjusted stock prices and store them in the database.\"\"\"\n",
    "    params = {\n",
    "        'function': 'TIME_SERIES_DAILY_ADJUSTED',\n",
    "        'symbol': ticker,\n",
    "        'outputsize': 'full',\n",
    "        'apikey': API_KEY\n",
    "    }\n",
    "\n",
    "    response = requests.get(BASE_URL, params=params)\n",
    "    if response.status_code != 200:\n",
    "        raise Exception(f\"API request failed: {response.status_code}\")\n",
    "\n",
    "    data = response.json().get('Time Series (Daily)', {})\n",
    "    if not data:\n",
    "        raise ValueError(f\"No data returned for ticker {ticker}\")\n",
    "\n",
    "    records = []\n",
    "    for date_str, values in data.items():\n",
    "        record = PriceData(\n",
    "            ticker=ticker,\n",
    "            date=datetime.strptime(date_str, '%Y-%m-%d').date(),\n",
    "            open=float(values['1. open']),\n",
    "            high=float(values['2. high']),\n",
    "            low=float(values['3. low']),\n",
    "            close=float(values['4. close']),\n",
    "            adjusted_close=float(values['5. adjusted close']),\n",
    "            volume=int(values['6. volume']),\n",
    "            source_api='Alpha Vantage',\n",
    "            interval='1d',\n",
    "            currency='USD',\n",
    "            data_type='historical',\n",
    "            created_at=datetime.utcnow()\n",
    "        )\n",
    "        records.append(record)\n",
    "\n",
    "    session.bulk_save_objects(records)\n",
    "    session.commit()\n",
    "    print(f\"Inserted {len(records)} price records for {ticker}\")\n",
    "\n",
    "if __name__ == '__main__':\n",
    "    Base.metadata.create_all(engine)\n",
    "    fetch_daily_prices('AAPL')  # Example\n"
   ],
   "id": "5ccccb38940b1c91",
   "outputs": [
    {
     "ename": "RuntimeError",
     "evalue": "'cryptography' package is required for sha256_password or caching_sha2_password auth methods",
     "output_type": "error",
     "traceback": [
      "\u001B[31m---------------------------------------------------------------------------\u001B[39m",
      "\u001B[31mRuntimeError\u001B[39m                              Traceback (most recent call last)",
      "\u001B[36mCell\u001B[39m\u001B[36m \u001B[39m\u001B[32mIn[19]\u001B[39m\u001B[32m, line 55\u001B[39m\n\u001B[32m     52\u001B[39m     \u001B[38;5;28mprint\u001B[39m(\u001B[33mf\u001B[39m\u001B[33m\"\u001B[39m\u001B[33mInserted \u001B[39m\u001B[38;5;132;01m{\u001B[39;00m\u001B[38;5;28mlen\u001B[39m(records)\u001B[38;5;132;01m}\u001B[39;00m\u001B[33m price records for \u001B[39m\u001B[38;5;132;01m{\u001B[39;00mticker\u001B[38;5;132;01m}\u001B[39;00m\u001B[33m\"\u001B[39m)\n\u001B[32m     54\u001B[39m \u001B[38;5;28;01mif\u001B[39;00m \u001B[34m__name__\u001B[39m == \u001B[33m'\u001B[39m\u001B[33m__main__\u001B[39m\u001B[33m'\u001B[39m:\n\u001B[32m---> \u001B[39m\u001B[32m55\u001B[39m     \u001B[43mBase\u001B[49m\u001B[43m.\u001B[49m\u001B[43mmetadata\u001B[49m\u001B[43m.\u001B[49m\u001B[43mcreate_all\u001B[49m\u001B[43m(\u001B[49m\u001B[43mengine\u001B[49m\u001B[43m)\u001B[49m\n\u001B[32m     56\u001B[39m     fetch_daily_prices(\u001B[33m'\u001B[39m\u001B[33mAAPL\u001B[39m\u001B[33m'\u001B[39m)  \u001B[38;5;66;03m# Example\u001B[39;00m\n",
      "\u001B[36mFile \u001B[39m\u001B[32m~/Library/Mobile Documents/com~apple~CloudDocs/Projects/Quantitative Stock Forecasting System/.venv/lib/python3.13/site-packages/sqlalchemy/sql/schema.py:5924\u001B[39m, in \u001B[36mMetaData.create_all\u001B[39m\u001B[34m(self, bind, tables, checkfirst)\u001B[39m\n\u001B[32m   5900\u001B[39m \u001B[38;5;28;01mdef\u001B[39;00m\u001B[38;5;250m \u001B[39m\u001B[34mcreate_all\u001B[39m(\n\u001B[32m   5901\u001B[39m     \u001B[38;5;28mself\u001B[39m,\n\u001B[32m   5902\u001B[39m     bind: _CreateDropBind,\n\u001B[32m   5903\u001B[39m     tables: Optional[_typing_Sequence[Table]] = \u001B[38;5;28;01mNone\u001B[39;00m,\n\u001B[32m   5904\u001B[39m     checkfirst: \u001B[38;5;28mbool\u001B[39m = \u001B[38;5;28;01mTrue\u001B[39;00m,\n\u001B[32m   5905\u001B[39m ) -> \u001B[38;5;28;01mNone\u001B[39;00m:\n\u001B[32m   5906\u001B[39m \u001B[38;5;250m    \u001B[39m\u001B[33;03m\"\"\"Create all tables stored in this metadata.\u001B[39;00m\n\u001B[32m   5907\u001B[39m \n\u001B[32m   5908\u001B[39m \u001B[33;03m    Conditional by default, will not attempt to recreate tables already\u001B[39;00m\n\u001B[32m   (...)\u001B[39m\u001B[32m   5922\u001B[39m \n\u001B[32m   5923\u001B[39m \u001B[33;03m    \"\"\"\u001B[39;00m\n\u001B[32m-> \u001B[39m\u001B[32m5924\u001B[39m     \u001B[43mbind\u001B[49m\u001B[43m.\u001B[49m\u001B[43m_run_ddl_visitor\u001B[49m\u001B[43m(\u001B[49m\n\u001B[32m   5925\u001B[39m \u001B[43m        \u001B[49m\u001B[43mddl\u001B[49m\u001B[43m.\u001B[49m\u001B[43mSchemaGenerator\u001B[49m\u001B[43m,\u001B[49m\u001B[43m \u001B[49m\u001B[38;5;28;43mself\u001B[39;49m\u001B[43m,\u001B[49m\u001B[43m \u001B[49m\u001B[43mcheckfirst\u001B[49m\u001B[43m=\u001B[49m\u001B[43mcheckfirst\u001B[49m\u001B[43m,\u001B[49m\u001B[43m \u001B[49m\u001B[43mtables\u001B[49m\u001B[43m=\u001B[49m\u001B[43mtables\u001B[49m\n\u001B[32m   5926\u001B[39m \u001B[43m    \u001B[49m\u001B[43m)\u001B[49m\n",
      "\u001B[36mFile \u001B[39m\u001B[32m~/Library/Mobile Documents/com~apple~CloudDocs/Projects/Quantitative Stock Forecasting System/.venv/lib/python3.13/site-packages/sqlalchemy/engine/base.py:3247\u001B[39m, in \u001B[36mEngine._run_ddl_visitor\u001B[39m\u001B[34m(self, visitorcallable, element, **kwargs)\u001B[39m\n\u001B[32m   3241\u001B[39m \u001B[38;5;28;01mdef\u001B[39;00m\u001B[38;5;250m \u001B[39m\u001B[34m_run_ddl_visitor\u001B[39m(\n\u001B[32m   3242\u001B[39m     \u001B[38;5;28mself\u001B[39m,\n\u001B[32m   3243\u001B[39m     visitorcallable: Type[InvokeDDLBase],\n\u001B[32m   3244\u001B[39m     element: SchemaVisitable,\n\u001B[32m   3245\u001B[39m     **kwargs: Any,\n\u001B[32m   3246\u001B[39m ) -> \u001B[38;5;28;01mNone\u001B[39;00m:\n\u001B[32m-> \u001B[39m\u001B[32m3247\u001B[39m \u001B[43m    \u001B[49m\u001B[38;5;28;43;01mwith\u001B[39;49;00m\u001B[43m \u001B[49m\u001B[38;5;28;43mself\u001B[39;49m\u001B[43m.\u001B[49m\u001B[43mbegin\u001B[49m\u001B[43m(\u001B[49m\u001B[43m)\u001B[49m\u001B[43m \u001B[49m\u001B[38;5;28;43;01mas\u001B[39;49;00m\u001B[43m \u001B[49m\u001B[43mconn\u001B[49m\u001B[43m:\u001B[49m\n\u001B[32m   3248\u001B[39m \u001B[43m        \u001B[49m\u001B[43mconn\u001B[49m\u001B[43m.\u001B[49m\u001B[43m_run_ddl_visitor\u001B[49m\u001B[43m(\u001B[49m\u001B[43mvisitorcallable\u001B[49m\u001B[43m,\u001B[49m\u001B[43m \u001B[49m\u001B[43melement\u001B[49m\u001B[43m,\u001B[49m\u001B[43m \u001B[49m\u001B[43m*\u001B[49m\u001B[43m*\u001B[49m\u001B[43mkwargs\u001B[49m\u001B[43m)\u001B[49m\n",
      "\u001B[36mFile \u001B[39m\u001B[32m/Library/Frameworks/Python.framework/Versions/3.13/lib/python3.13/contextlib.py:141\u001B[39m, in \u001B[36m_GeneratorContextManager.__enter__\u001B[39m\u001B[34m(self)\u001B[39m\n\u001B[32m    139\u001B[39m \u001B[38;5;28;01mdel\u001B[39;00m \u001B[38;5;28mself\u001B[39m.args, \u001B[38;5;28mself\u001B[39m.kwds, \u001B[38;5;28mself\u001B[39m.func\n\u001B[32m    140\u001B[39m \u001B[38;5;28;01mtry\u001B[39;00m:\n\u001B[32m--> \u001B[39m\u001B[32m141\u001B[39m     \u001B[38;5;28;01mreturn\u001B[39;00m \u001B[38;5;28;43mnext\u001B[39;49m\u001B[43m(\u001B[49m\u001B[38;5;28;43mself\u001B[39;49m\u001B[43m.\u001B[49m\u001B[43mgen\u001B[49m\u001B[43m)\u001B[49m\n\u001B[32m    142\u001B[39m \u001B[38;5;28;01mexcept\u001B[39;00m \u001B[38;5;167;01mStopIteration\u001B[39;00m:\n\u001B[32m    143\u001B[39m     \u001B[38;5;28;01mraise\u001B[39;00m \u001B[38;5;167;01mRuntimeError\u001B[39;00m(\u001B[33m\"\u001B[39m\u001B[33mgenerator didn\u001B[39m\u001B[33m'\u001B[39m\u001B[33mt yield\u001B[39m\u001B[33m\"\u001B[39m) \u001B[38;5;28;01mfrom\u001B[39;00m\u001B[38;5;250m \u001B[39m\u001B[38;5;28;01mNone\u001B[39;00m\n",
      "\u001B[36mFile \u001B[39m\u001B[32m~/Library/Mobile Documents/com~apple~CloudDocs/Projects/Quantitative Stock Forecasting System/.venv/lib/python3.13/site-packages/sqlalchemy/engine/base.py:3237\u001B[39m, in \u001B[36mEngine.begin\u001B[39m\u001B[34m(self)\u001B[39m\n\u001B[32m   3212\u001B[39m \u001B[38;5;129m@contextlib\u001B[39m.contextmanager\n\u001B[32m   3213\u001B[39m \u001B[38;5;28;01mdef\u001B[39;00m\u001B[38;5;250m \u001B[39m\u001B[34mbegin\u001B[39m(\u001B[38;5;28mself\u001B[39m) -> Iterator[Connection]:\n\u001B[32m   3214\u001B[39m \u001B[38;5;250m    \u001B[39m\u001B[33;03m\"\"\"Return a context manager delivering a :class:`_engine.Connection`\u001B[39;00m\n\u001B[32m   3215\u001B[39m \u001B[33;03m    with a :class:`.Transaction` established.\u001B[39;00m\n\u001B[32m   3216\u001B[39m \n\u001B[32m   (...)\u001B[39m\u001B[32m   3235\u001B[39m \n\u001B[32m   3236\u001B[39m \u001B[33;03m    \"\"\"\u001B[39;00m  \u001B[38;5;66;03m# noqa: E501\u001B[39;00m\n\u001B[32m-> \u001B[39m\u001B[32m3237\u001B[39m     \u001B[38;5;28;01mwith\u001B[39;00m \u001B[38;5;28;43mself\u001B[39;49m\u001B[43m.\u001B[49m\u001B[43mconnect\u001B[49m\u001B[43m(\u001B[49m\u001B[43m)\u001B[49m \u001B[38;5;28;01mas\u001B[39;00m conn:\n\u001B[32m   3238\u001B[39m         \u001B[38;5;28;01mwith\u001B[39;00m conn.begin():\n\u001B[32m   3239\u001B[39m             \u001B[38;5;28;01myield\u001B[39;00m conn\n",
      "\u001B[36mFile \u001B[39m\u001B[32m~/Library/Mobile Documents/com~apple~CloudDocs/Projects/Quantitative Stock Forecasting System/.venv/lib/python3.13/site-packages/sqlalchemy/engine/base.py:3273\u001B[39m, in \u001B[36mEngine.connect\u001B[39m\u001B[34m(self)\u001B[39m\n\u001B[32m   3250\u001B[39m \u001B[38;5;28;01mdef\u001B[39;00m\u001B[38;5;250m \u001B[39m\u001B[34mconnect\u001B[39m(\u001B[38;5;28mself\u001B[39m) -> Connection:\n\u001B[32m   3251\u001B[39m \u001B[38;5;250m    \u001B[39m\u001B[33;03m\"\"\"Return a new :class:`_engine.Connection` object.\u001B[39;00m\n\u001B[32m   3252\u001B[39m \n\u001B[32m   3253\u001B[39m \u001B[33;03m    The :class:`_engine.Connection` acts as a Python context manager, so\u001B[39;00m\n\u001B[32m   (...)\u001B[39m\u001B[32m   3270\u001B[39m \n\u001B[32m   3271\u001B[39m \u001B[33;03m    \"\"\"\u001B[39;00m\n\u001B[32m-> \u001B[39m\u001B[32m3273\u001B[39m     \u001B[38;5;28;01mreturn\u001B[39;00m \u001B[38;5;28;43mself\u001B[39;49m\u001B[43m.\u001B[49m\u001B[43m_connection_cls\u001B[49m\u001B[43m(\u001B[49m\u001B[38;5;28;43mself\u001B[39;49m\u001B[43m)\u001B[49m\n",
      "\u001B[36mFile \u001B[39m\u001B[32m~/Library/Mobile Documents/com~apple~CloudDocs/Projects/Quantitative Stock Forecasting System/.venv/lib/python3.13/site-packages/sqlalchemy/engine/base.py:145\u001B[39m, in \u001B[36mConnection.__init__\u001B[39m\u001B[34m(self, engine, connection, _has_events, _allow_revalidate, _allow_autobegin)\u001B[39m\n\u001B[32m    143\u001B[39m \u001B[38;5;28;01mif\u001B[39;00m connection \u001B[38;5;129;01mis\u001B[39;00m \u001B[38;5;28;01mNone\u001B[39;00m:\n\u001B[32m    144\u001B[39m     \u001B[38;5;28;01mtry\u001B[39;00m:\n\u001B[32m--> \u001B[39m\u001B[32m145\u001B[39m         \u001B[38;5;28mself\u001B[39m._dbapi_connection = \u001B[43mengine\u001B[49m\u001B[43m.\u001B[49m\u001B[43mraw_connection\u001B[49m\u001B[43m(\u001B[49m\u001B[43m)\u001B[49m\n\u001B[32m    146\u001B[39m     \u001B[38;5;28;01mexcept\u001B[39;00m dialect.loaded_dbapi.Error \u001B[38;5;28;01mas\u001B[39;00m err:\n\u001B[32m    147\u001B[39m         Connection._handle_dbapi_exception_noconnection(\n\u001B[32m    148\u001B[39m             err, dialect, engine\n\u001B[32m    149\u001B[39m         )\n",
      "\u001B[36mFile \u001B[39m\u001B[32m~/Library/Mobile Documents/com~apple~CloudDocs/Projects/Quantitative Stock Forecasting System/.venv/lib/python3.13/site-packages/sqlalchemy/engine/base.py:3297\u001B[39m, in \u001B[36mEngine.raw_connection\u001B[39m\u001B[34m(self)\u001B[39m\n\u001B[32m   3275\u001B[39m \u001B[38;5;28;01mdef\u001B[39;00m\u001B[38;5;250m \u001B[39m\u001B[34mraw_connection\u001B[39m(\u001B[38;5;28mself\u001B[39m) -> PoolProxiedConnection:\n\u001B[32m   3276\u001B[39m \u001B[38;5;250m    \u001B[39m\u001B[33;03m\"\"\"Return a \"raw\" DBAPI connection from the connection pool.\u001B[39;00m\n\u001B[32m   3277\u001B[39m \n\u001B[32m   3278\u001B[39m \u001B[33;03m    The returned object is a proxied version of the DBAPI\u001B[39;00m\n\u001B[32m   (...)\u001B[39m\u001B[32m   3295\u001B[39m \n\u001B[32m   3296\u001B[39m \u001B[33;03m    \"\"\"\u001B[39;00m\n\u001B[32m-> \u001B[39m\u001B[32m3297\u001B[39m     \u001B[38;5;28;01mreturn\u001B[39;00m \u001B[38;5;28;43mself\u001B[39;49m\u001B[43m.\u001B[49m\u001B[43mpool\u001B[49m\u001B[43m.\u001B[49m\u001B[43mconnect\u001B[49m\u001B[43m(\u001B[49m\u001B[43m)\u001B[49m\n",
      "\u001B[36mFile \u001B[39m\u001B[32m~/Library/Mobile Documents/com~apple~CloudDocs/Projects/Quantitative Stock Forecasting System/.venv/lib/python3.13/site-packages/sqlalchemy/pool/base.py:449\u001B[39m, in \u001B[36mPool.connect\u001B[39m\u001B[34m(self)\u001B[39m\n\u001B[32m    441\u001B[39m \u001B[38;5;28;01mdef\u001B[39;00m\u001B[38;5;250m \u001B[39m\u001B[34mconnect\u001B[39m(\u001B[38;5;28mself\u001B[39m) -> PoolProxiedConnection:\n\u001B[32m    442\u001B[39m \u001B[38;5;250m    \u001B[39m\u001B[33;03m\"\"\"Return a DBAPI connection from the pool.\u001B[39;00m\n\u001B[32m    443\u001B[39m \n\u001B[32m    444\u001B[39m \u001B[33;03m    The connection is instrumented such that when its\u001B[39;00m\n\u001B[32m   (...)\u001B[39m\u001B[32m    447\u001B[39m \n\u001B[32m    448\u001B[39m \u001B[33;03m    \"\"\"\u001B[39;00m\n\u001B[32m--> \u001B[39m\u001B[32m449\u001B[39m     \u001B[38;5;28;01mreturn\u001B[39;00m \u001B[43m_ConnectionFairy\u001B[49m\u001B[43m.\u001B[49m\u001B[43m_checkout\u001B[49m\u001B[43m(\u001B[49m\u001B[38;5;28;43mself\u001B[39;49m\u001B[43m)\u001B[49m\n",
      "\u001B[36mFile \u001B[39m\u001B[32m~/Library/Mobile Documents/com~apple~CloudDocs/Projects/Quantitative Stock Forecasting System/.venv/lib/python3.13/site-packages/sqlalchemy/pool/base.py:1264\u001B[39m, in \u001B[36m_ConnectionFairy._checkout\u001B[39m\u001B[34m(cls, pool, threadconns, fairy)\u001B[39m\n\u001B[32m   1256\u001B[39m \u001B[38;5;129m@classmethod\u001B[39m\n\u001B[32m   1257\u001B[39m \u001B[38;5;28;01mdef\u001B[39;00m\u001B[38;5;250m \u001B[39m\u001B[34m_checkout\u001B[39m(\n\u001B[32m   1258\u001B[39m     \u001B[38;5;28mcls\u001B[39m,\n\u001B[32m   (...)\u001B[39m\u001B[32m   1261\u001B[39m     fairy: Optional[_ConnectionFairy] = \u001B[38;5;28;01mNone\u001B[39;00m,\n\u001B[32m   1262\u001B[39m ) -> _ConnectionFairy:\n\u001B[32m   1263\u001B[39m     \u001B[38;5;28;01mif\u001B[39;00m \u001B[38;5;129;01mnot\u001B[39;00m fairy:\n\u001B[32m-> \u001B[39m\u001B[32m1264\u001B[39m         fairy = \u001B[43m_ConnectionRecord\u001B[49m\u001B[43m.\u001B[49m\u001B[43mcheckout\u001B[49m\u001B[43m(\u001B[49m\u001B[43mpool\u001B[49m\u001B[43m)\u001B[49m\n\u001B[32m   1266\u001B[39m         \u001B[38;5;28;01mif\u001B[39;00m threadconns \u001B[38;5;129;01mis\u001B[39;00m \u001B[38;5;129;01mnot\u001B[39;00m \u001B[38;5;28;01mNone\u001B[39;00m:\n\u001B[32m   1267\u001B[39m             threadconns.current = weakref.ref(fairy)\n",
      "\u001B[36mFile \u001B[39m\u001B[32m~/Library/Mobile Documents/com~apple~CloudDocs/Projects/Quantitative Stock Forecasting System/.venv/lib/python3.13/site-packages/sqlalchemy/pool/base.py:713\u001B[39m, in \u001B[36m_ConnectionRecord.checkout\u001B[39m\u001B[34m(cls, pool)\u001B[39m\n\u001B[32m    711\u001B[39m     rec = cast(_ConnectionRecord, pool._do_get())\n\u001B[32m    712\u001B[39m \u001B[38;5;28;01melse\u001B[39;00m:\n\u001B[32m--> \u001B[39m\u001B[32m713\u001B[39m     rec = \u001B[43mpool\u001B[49m\u001B[43m.\u001B[49m\u001B[43m_do_get\u001B[49m\u001B[43m(\u001B[49m\u001B[43m)\u001B[49m\n\u001B[32m    715\u001B[39m \u001B[38;5;28;01mtry\u001B[39;00m:\n\u001B[32m    716\u001B[39m     dbapi_connection = rec.get_connection()\n",
      "\u001B[36mFile \u001B[39m\u001B[32m~/Library/Mobile Documents/com~apple~CloudDocs/Projects/Quantitative Stock Forecasting System/.venv/lib/python3.13/site-packages/sqlalchemy/pool/impl.py:179\u001B[39m, in \u001B[36mQueuePool._do_get\u001B[39m\u001B[34m(self)\u001B[39m\n\u001B[32m    177\u001B[39m     \u001B[38;5;28;01mreturn\u001B[39;00m \u001B[38;5;28mself\u001B[39m._create_connection()\n\u001B[32m    178\u001B[39m \u001B[38;5;28;01mexcept\u001B[39;00m:\n\u001B[32m--> \u001B[39m\u001B[32m179\u001B[39m \u001B[43m    \u001B[49m\u001B[38;5;28;43;01mwith\u001B[39;49;00m\u001B[43m \u001B[49m\u001B[43mutil\u001B[49m\u001B[43m.\u001B[49m\u001B[43msafe_reraise\u001B[49m\u001B[43m(\u001B[49m\u001B[43m)\u001B[49m\u001B[43m:\u001B[49m\n\u001B[32m    180\u001B[39m \u001B[43m        \u001B[49m\u001B[38;5;28;43mself\u001B[39;49m\u001B[43m.\u001B[49m\u001B[43m_dec_overflow\u001B[49m\u001B[43m(\u001B[49m\u001B[43m)\u001B[49m\n\u001B[32m    181\u001B[39m     \u001B[38;5;28;01mraise\u001B[39;00m\n",
      "\u001B[36mFile \u001B[39m\u001B[32m~/Library/Mobile Documents/com~apple~CloudDocs/Projects/Quantitative Stock Forecasting System/.venv/lib/python3.13/site-packages/sqlalchemy/util/langhelpers.py:224\u001B[39m, in \u001B[36msafe_reraise.__exit__\u001B[39m\u001B[34m(self, type_, value, traceback)\u001B[39m\n\u001B[32m    222\u001B[39m     \u001B[38;5;28;01massert\u001B[39;00m exc_value \u001B[38;5;129;01mis\u001B[39;00m \u001B[38;5;129;01mnot\u001B[39;00m \u001B[38;5;28;01mNone\u001B[39;00m\n\u001B[32m    223\u001B[39m     \u001B[38;5;28mself\u001B[39m._exc_info = \u001B[38;5;28;01mNone\u001B[39;00m  \u001B[38;5;66;03m# remove potential circular references\u001B[39;00m\n\u001B[32m--> \u001B[39m\u001B[32m224\u001B[39m     \u001B[38;5;28;01mraise\u001B[39;00m exc_value.with_traceback(exc_tb)\n\u001B[32m    225\u001B[39m \u001B[38;5;28;01melse\u001B[39;00m:\n\u001B[32m    226\u001B[39m     \u001B[38;5;28mself\u001B[39m._exc_info = \u001B[38;5;28;01mNone\u001B[39;00m  \u001B[38;5;66;03m# remove potential circular references\u001B[39;00m\n",
      "\u001B[36mFile \u001B[39m\u001B[32m~/Library/Mobile Documents/com~apple~CloudDocs/Projects/Quantitative Stock Forecasting System/.venv/lib/python3.13/site-packages/sqlalchemy/pool/impl.py:177\u001B[39m, in \u001B[36mQueuePool._do_get\u001B[39m\u001B[34m(self)\u001B[39m\n\u001B[32m    175\u001B[39m \u001B[38;5;28;01mif\u001B[39;00m \u001B[38;5;28mself\u001B[39m._inc_overflow():\n\u001B[32m    176\u001B[39m     \u001B[38;5;28;01mtry\u001B[39;00m:\n\u001B[32m--> \u001B[39m\u001B[32m177\u001B[39m         \u001B[38;5;28;01mreturn\u001B[39;00m \u001B[38;5;28;43mself\u001B[39;49m\u001B[43m.\u001B[49m\u001B[43m_create_connection\u001B[49m\u001B[43m(\u001B[49m\u001B[43m)\u001B[49m\n\u001B[32m    178\u001B[39m     \u001B[38;5;28;01mexcept\u001B[39;00m:\n\u001B[32m    179\u001B[39m         \u001B[38;5;28;01mwith\u001B[39;00m util.safe_reraise():\n",
      "\u001B[36mFile \u001B[39m\u001B[32m~/Library/Mobile Documents/com~apple~CloudDocs/Projects/Quantitative Stock Forecasting System/.venv/lib/python3.13/site-packages/sqlalchemy/pool/base.py:390\u001B[39m, in \u001B[36mPool._create_connection\u001B[39m\u001B[34m(self)\u001B[39m\n\u001B[32m    387\u001B[39m \u001B[38;5;28;01mdef\u001B[39;00m\u001B[38;5;250m \u001B[39m\u001B[34m_create_connection\u001B[39m(\u001B[38;5;28mself\u001B[39m) -> ConnectionPoolEntry:\n\u001B[32m    388\u001B[39m \u001B[38;5;250m    \u001B[39m\u001B[33;03m\"\"\"Called by subclasses to create a new ConnectionRecord.\"\"\"\u001B[39;00m\n\u001B[32m--> \u001B[39m\u001B[32m390\u001B[39m     \u001B[38;5;28;01mreturn\u001B[39;00m \u001B[43m_ConnectionRecord\u001B[49m\u001B[43m(\u001B[49m\u001B[38;5;28;43mself\u001B[39;49m\u001B[43m)\u001B[49m\n",
      "\u001B[36mFile \u001B[39m\u001B[32m~/Library/Mobile Documents/com~apple~CloudDocs/Projects/Quantitative Stock Forecasting System/.venv/lib/python3.13/site-packages/sqlalchemy/pool/base.py:675\u001B[39m, in \u001B[36m_ConnectionRecord.__init__\u001B[39m\u001B[34m(self, pool, connect)\u001B[39m\n\u001B[32m    673\u001B[39m \u001B[38;5;28mself\u001B[39m.__pool = pool\n\u001B[32m    674\u001B[39m \u001B[38;5;28;01mif\u001B[39;00m connect:\n\u001B[32m--> \u001B[39m\u001B[32m675\u001B[39m     \u001B[38;5;28;43mself\u001B[39;49m\u001B[43m.\u001B[49m\u001B[43m__connect\u001B[49m\u001B[43m(\u001B[49m\u001B[43m)\u001B[49m\n\u001B[32m    676\u001B[39m \u001B[38;5;28mself\u001B[39m.finalize_callback = deque()\n",
      "\u001B[36mFile \u001B[39m\u001B[32m~/Library/Mobile Documents/com~apple~CloudDocs/Projects/Quantitative Stock Forecasting System/.venv/lib/python3.13/site-packages/sqlalchemy/pool/base.py:901\u001B[39m, in \u001B[36m_ConnectionRecord.__connect\u001B[39m\u001B[34m(self)\u001B[39m\n\u001B[32m    899\u001B[39m     \u001B[38;5;28mself\u001B[39m.fresh = \u001B[38;5;28;01mTrue\u001B[39;00m\n\u001B[32m    900\u001B[39m \u001B[38;5;28;01mexcept\u001B[39;00m \u001B[38;5;167;01mBaseException\u001B[39;00m \u001B[38;5;28;01mas\u001B[39;00m e:\n\u001B[32m--> \u001B[39m\u001B[32m901\u001B[39m \u001B[43m    \u001B[49m\u001B[38;5;28;43;01mwith\u001B[39;49;00m\u001B[43m \u001B[49m\u001B[43mutil\u001B[49m\u001B[43m.\u001B[49m\u001B[43msafe_reraise\u001B[49m\u001B[43m(\u001B[49m\u001B[43m)\u001B[49m\u001B[43m:\u001B[49m\n\u001B[32m    902\u001B[39m \u001B[43m        \u001B[49m\u001B[43mpool\u001B[49m\u001B[43m.\u001B[49m\u001B[43mlogger\u001B[49m\u001B[43m.\u001B[49m\u001B[43mdebug\u001B[49m\u001B[43m(\u001B[49m\u001B[33;43m\"\u001B[39;49m\u001B[33;43mError on connect(): \u001B[39;49m\u001B[38;5;132;43;01m%s\u001B[39;49;00m\u001B[33;43m\"\u001B[39;49m\u001B[43m,\u001B[49m\u001B[43m \u001B[49m\u001B[43me\u001B[49m\u001B[43m)\u001B[49m\n\u001B[32m    903\u001B[39m \u001B[38;5;28;01melse\u001B[39;00m:\n\u001B[32m    904\u001B[39m     \u001B[38;5;66;03m# in SQLAlchemy 1.4 the first_connect event is not used by\u001B[39;00m\n\u001B[32m    905\u001B[39m     \u001B[38;5;66;03m# the engine, so this will usually not be set\u001B[39;00m\n",
      "\u001B[36mFile \u001B[39m\u001B[32m~/Library/Mobile Documents/com~apple~CloudDocs/Projects/Quantitative Stock Forecasting System/.venv/lib/python3.13/site-packages/sqlalchemy/util/langhelpers.py:224\u001B[39m, in \u001B[36msafe_reraise.__exit__\u001B[39m\u001B[34m(self, type_, value, traceback)\u001B[39m\n\u001B[32m    222\u001B[39m     \u001B[38;5;28;01massert\u001B[39;00m exc_value \u001B[38;5;129;01mis\u001B[39;00m \u001B[38;5;129;01mnot\u001B[39;00m \u001B[38;5;28;01mNone\u001B[39;00m\n\u001B[32m    223\u001B[39m     \u001B[38;5;28mself\u001B[39m._exc_info = \u001B[38;5;28;01mNone\u001B[39;00m  \u001B[38;5;66;03m# remove potential circular references\u001B[39;00m\n\u001B[32m--> \u001B[39m\u001B[32m224\u001B[39m     \u001B[38;5;28;01mraise\u001B[39;00m exc_value.with_traceback(exc_tb)\n\u001B[32m    225\u001B[39m \u001B[38;5;28;01melse\u001B[39;00m:\n\u001B[32m    226\u001B[39m     \u001B[38;5;28mself\u001B[39m._exc_info = \u001B[38;5;28;01mNone\u001B[39;00m  \u001B[38;5;66;03m# remove potential circular references\u001B[39;00m\n",
      "\u001B[36mFile \u001B[39m\u001B[32m~/Library/Mobile Documents/com~apple~CloudDocs/Projects/Quantitative Stock Forecasting System/.venv/lib/python3.13/site-packages/sqlalchemy/pool/base.py:897\u001B[39m, in \u001B[36m_ConnectionRecord.__connect\u001B[39m\u001B[34m(self)\u001B[39m\n\u001B[32m    895\u001B[39m \u001B[38;5;28;01mtry\u001B[39;00m:\n\u001B[32m    896\u001B[39m     \u001B[38;5;28mself\u001B[39m.starttime = time.time()\n\u001B[32m--> \u001B[39m\u001B[32m897\u001B[39m     \u001B[38;5;28mself\u001B[39m.dbapi_connection = connection = \u001B[43mpool\u001B[49m\u001B[43m.\u001B[49m\u001B[43m_invoke_creator\u001B[49m\u001B[43m(\u001B[49m\u001B[38;5;28;43mself\u001B[39;49m\u001B[43m)\u001B[49m\n\u001B[32m    898\u001B[39m     pool.logger.debug(\u001B[33m\"\u001B[39m\u001B[33mCreated new connection \u001B[39m\u001B[38;5;132;01m%r\u001B[39;00m\u001B[33m\"\u001B[39m, connection)\n\u001B[32m    899\u001B[39m     \u001B[38;5;28mself\u001B[39m.fresh = \u001B[38;5;28;01mTrue\u001B[39;00m\n",
      "\u001B[36mFile \u001B[39m\u001B[32m~/Library/Mobile Documents/com~apple~CloudDocs/Projects/Quantitative Stock Forecasting System/.venv/lib/python3.13/site-packages/sqlalchemy/engine/create.py:646\u001B[39m, in \u001B[36mcreate_engine.<locals>.connect\u001B[39m\u001B[34m(connection_record)\u001B[39m\n\u001B[32m    643\u001B[39m         \u001B[38;5;28;01mif\u001B[39;00m connection \u001B[38;5;129;01mis\u001B[39;00m \u001B[38;5;129;01mnot\u001B[39;00m \u001B[38;5;28;01mNone\u001B[39;00m:\n\u001B[32m    644\u001B[39m             \u001B[38;5;28;01mreturn\u001B[39;00m connection\n\u001B[32m--> \u001B[39m\u001B[32m646\u001B[39m \u001B[38;5;28;01mreturn\u001B[39;00m \u001B[43mdialect\u001B[49m\u001B[43m.\u001B[49m\u001B[43mconnect\u001B[49m\u001B[43m(\u001B[49m\u001B[43m*\u001B[49m\u001B[43mcargs\u001B[49m\u001B[43m,\u001B[49m\u001B[43m \u001B[49m\u001B[43m*\u001B[49m\u001B[43m*\u001B[49m\u001B[43mcparams\u001B[49m\u001B[43m)\u001B[49m\n",
      "\u001B[36mFile \u001B[39m\u001B[32m~/Library/Mobile Documents/com~apple~CloudDocs/Projects/Quantitative Stock Forecasting System/.venv/lib/python3.13/site-packages/sqlalchemy/engine/default.py:625\u001B[39m, in \u001B[36mDefaultDialect.connect\u001B[39m\u001B[34m(self, *cargs, **cparams)\u001B[39m\n\u001B[32m    623\u001B[39m \u001B[38;5;28;01mdef\u001B[39;00m\u001B[38;5;250m \u001B[39m\u001B[34mconnect\u001B[39m(\u001B[38;5;28mself\u001B[39m, *cargs: Any, **cparams: Any) -> DBAPIConnection:\n\u001B[32m    624\u001B[39m     \u001B[38;5;66;03m# inherits the docstring from interfaces.Dialect.connect\u001B[39;00m\n\u001B[32m--> \u001B[39m\u001B[32m625\u001B[39m     \u001B[38;5;28;01mreturn\u001B[39;00m \u001B[38;5;28;43mself\u001B[39;49m\u001B[43m.\u001B[49m\u001B[43mloaded_dbapi\u001B[49m\u001B[43m.\u001B[49m\u001B[43mconnect\u001B[49m\u001B[43m(\u001B[49m\u001B[43m*\u001B[49m\u001B[43mcargs\u001B[49m\u001B[43m,\u001B[49m\u001B[43m \u001B[49m\u001B[43m*\u001B[49m\u001B[43m*\u001B[49m\u001B[43mcparams\u001B[49m\u001B[43m)\u001B[49m\n",
      "\u001B[36mFile \u001B[39m\u001B[32m~/Library/Mobile Documents/com~apple~CloudDocs/Projects/Quantitative Stock Forecasting System/.venv/lib/python3.13/site-packages/pymysql/connections.py:361\u001B[39m, in \u001B[36mConnection.__init__\u001B[39m\u001B[34m(self, user, password, host, database, unix_socket, port, charset, collation, sql_mode, read_default_file, conv, use_unicode, client_flag, cursorclass, init_command, connect_timeout, read_default_group, autocommit, local_infile, max_allowed_packet, defer_connect, auth_plugin_map, read_timeout, write_timeout, bind_address, binary_prefix, program_name, server_public_key, ssl, ssl_ca, ssl_cert, ssl_disabled, ssl_key, ssl_key_password, ssl_verify_cert, ssl_verify_identity, compress, named_pipe, passwd, db)\u001B[39m\n\u001B[32m    359\u001B[39m     \u001B[38;5;28mself\u001B[39m._sock = \u001B[38;5;28;01mNone\u001B[39;00m\n\u001B[32m    360\u001B[39m \u001B[38;5;28;01melse\u001B[39;00m:\n\u001B[32m--> \u001B[39m\u001B[32m361\u001B[39m     \u001B[38;5;28;43mself\u001B[39;49m\u001B[43m.\u001B[49m\u001B[43mconnect\u001B[49m\u001B[43m(\u001B[49m\u001B[43m)\u001B[49m\n",
      "\u001B[36mFile \u001B[39m\u001B[32m~/Library/Mobile Documents/com~apple~CloudDocs/Projects/Quantitative Stock Forecasting System/.venv/lib/python3.13/site-packages/pymysql/connections.py:669\u001B[39m, in \u001B[36mConnection.connect\u001B[39m\u001B[34m(self, sock)\u001B[39m\n\u001B[32m    666\u001B[39m \u001B[38;5;28mself\u001B[39m._next_seq_id = \u001B[32m0\u001B[39m\n\u001B[32m    668\u001B[39m \u001B[38;5;28mself\u001B[39m._get_server_information()\n\u001B[32m--> \u001B[39m\u001B[32m669\u001B[39m \u001B[38;5;28;43mself\u001B[39;49m\u001B[43m.\u001B[49m\u001B[43m_request_authentication\u001B[49m\u001B[43m(\u001B[49m\u001B[43m)\u001B[49m\n\u001B[32m    671\u001B[39m \u001B[38;5;66;03m# Send \"SET NAMES\" query on init for:\u001B[39;00m\n\u001B[32m    672\u001B[39m \u001B[38;5;66;03m# - Ensure charaset (and collation) is set to the server.\u001B[39;00m\n\u001B[32m    673\u001B[39m \u001B[38;5;66;03m#   - collation_id in handshake packet may be ignored.\u001B[39;00m\n\u001B[32m   (...)\u001B[39m\u001B[32m    682\u001B[39m \u001B[38;5;66;03m# - https://github.com/wagtail/wagtail/issues/9477\u001B[39;00m\n\u001B[32m    683\u001B[39m \u001B[38;5;66;03m# - https://zenn.dev/methane/articles/2023-mysql-collation (Japanese)\u001B[39;00m\n\u001B[32m    684\u001B[39m \u001B[38;5;28mself\u001B[39m.set_character_set(\u001B[38;5;28mself\u001B[39m.charset, \u001B[38;5;28mself\u001B[39m.collation)\n",
      "\u001B[36mFile \u001B[39m\u001B[32m~/Library/Mobile Documents/com~apple~CloudDocs/Projects/Quantitative Stock Forecasting System/.venv/lib/python3.13/site-packages/pymysql/connections.py:979\u001B[39m, in \u001B[36mConnection._request_authentication\u001B[39m\u001B[34m(self)\u001B[39m\n\u001B[32m    977\u001B[39m \u001B[38;5;66;03m# https://dev.mysql.com/doc/internals/en/successful-authentication.html\u001B[39;00m\n\u001B[32m    978\u001B[39m \u001B[38;5;28;01mif\u001B[39;00m \u001B[38;5;28mself\u001B[39m._auth_plugin_name == \u001B[33m\"\u001B[39m\u001B[33mcaching_sha2_password\u001B[39m\u001B[33m\"\u001B[39m:\n\u001B[32m--> \u001B[39m\u001B[32m979\u001B[39m     auth_packet = \u001B[43m_auth\u001B[49m\u001B[43m.\u001B[49m\u001B[43mcaching_sha2_password_auth\u001B[49m\u001B[43m(\u001B[49m\u001B[38;5;28;43mself\u001B[39;49m\u001B[43m,\u001B[49m\u001B[43m \u001B[49m\u001B[43mauth_packet\u001B[49m\u001B[43m)\u001B[49m\n\u001B[32m    980\u001B[39m \u001B[38;5;28;01melif\u001B[39;00m \u001B[38;5;28mself\u001B[39m._auth_plugin_name == \u001B[33m\"\u001B[39m\u001B[33msha256_password\u001B[39m\u001B[33m\"\u001B[39m:\n\u001B[32m    981\u001B[39m     auth_packet = _auth.sha256_password_auth(\u001B[38;5;28mself\u001B[39m, auth_packet)\n",
      "\u001B[36mFile \u001B[39m\u001B[32m~/Library/Mobile Documents/com~apple~CloudDocs/Projects/Quantitative Stock Forecasting System/.venv/lib/python3.13/site-packages/pymysql/_auth.py:267\u001B[39m, in \u001B[36mcaching_sha2_password_auth\u001B[39m\u001B[34m(conn, pkt)\u001B[39m\n\u001B[32m    264\u001B[39m     \u001B[38;5;28;01mif\u001B[39;00m DEBUG:\n\u001B[32m    265\u001B[39m         \u001B[38;5;28mprint\u001B[39m(conn.server_public_key.decode(\u001B[33m\"\u001B[39m\u001B[33mascii\u001B[39m\u001B[33m\"\u001B[39m))\n\u001B[32m--> \u001B[39m\u001B[32m267\u001B[39m data = \u001B[43msha2_rsa_encrypt\u001B[49m\u001B[43m(\u001B[49m\u001B[43mconn\u001B[49m\u001B[43m.\u001B[49m\u001B[43mpassword\u001B[49m\u001B[43m,\u001B[49m\u001B[43m \u001B[49m\u001B[43mconn\u001B[49m\u001B[43m.\u001B[49m\u001B[43msalt\u001B[49m\u001B[43m,\u001B[49m\u001B[43m \u001B[49m\u001B[43mconn\u001B[49m\u001B[43m.\u001B[49m\u001B[43mserver_public_key\u001B[49m\u001B[43m)\u001B[49m\n\u001B[32m    268\u001B[39m pkt = _roundtrip(conn, data)\n",
      "\u001B[36mFile \u001B[39m\u001B[32m~/Library/Mobile Documents/com~apple~CloudDocs/Projects/Quantitative Stock Forecasting System/.venv/lib/python3.13/site-packages/pymysql/_auth.py:144\u001B[39m, in \u001B[36msha2_rsa_encrypt\u001B[39m\u001B[34m(password, salt, public_key)\u001B[39m\n\u001B[32m    139\u001B[39m \u001B[38;5;250m\u001B[39m\u001B[33;03m\"\"\"Encrypt password with salt and public_key.\u001B[39;00m\n\u001B[32m    140\u001B[39m \n\u001B[32m    141\u001B[39m \u001B[33;03mUsed for sha256_password and caching_sha2_password.\u001B[39;00m\n\u001B[32m    142\u001B[39m \u001B[33;03m\"\"\"\u001B[39;00m\n\u001B[32m    143\u001B[39m \u001B[38;5;28;01mif\u001B[39;00m \u001B[38;5;129;01mnot\u001B[39;00m _have_cryptography:\n\u001B[32m--> \u001B[39m\u001B[32m144\u001B[39m     \u001B[38;5;28;01mraise\u001B[39;00m \u001B[38;5;167;01mRuntimeError\u001B[39;00m(\n\u001B[32m    145\u001B[39m         \u001B[33m\"\u001B[39m\u001B[33m'\u001B[39m\u001B[33mcryptography\u001B[39m\u001B[33m'\u001B[39m\u001B[33m package is required for sha256_password or\u001B[39m\u001B[33m\"\u001B[39m\n\u001B[32m    146\u001B[39m         + \u001B[33m\"\u001B[39m\u001B[33m caching_sha2_password auth methods\u001B[39m\u001B[33m\"\u001B[39m\n\u001B[32m    147\u001B[39m     )\n\u001B[32m    148\u001B[39m message = _xor_password(password + \u001B[33mb\u001B[39m\u001B[33m\"\u001B[39m\u001B[38;5;130;01m\\0\u001B[39;00m\u001B[33m\"\u001B[39m, salt)\n\u001B[32m    149\u001B[39m rsa_key = serialization.load_pem_public_key(public_key, default_backend())\n",
      "\u001B[31mRuntimeError\u001B[39m: 'cryptography' package is required for sha256_password or caching_sha2_password auth methods"
     ]
    }
   ],
   "execution_count": 19
  },
  {
   "metadata": {
    "ExecuteTime": {
     "end_time": "2025-06-09T11:37:26.761144Z",
     "start_time": "2025-06-09T11:37:26.758196Z"
    }
   },
   "cell_type": "code",
   "source": [
    "ALTER USER 'root'@'localhost'\n",
    "IDENTIFIED WITH mysql_native_password\n",
    "BY '1234';\n",
    "\n",
    "FLUSH PRIVILEGES;\n"
   ],
   "id": "c3d7bceb8026dcfb",
   "outputs": [
    {
     "ename": "SyntaxError",
     "evalue": "invalid syntax (479038977.py, line 1)",
     "output_type": "error",
     "traceback": [
      "  \u001B[36mCell\u001B[39m\u001B[36m \u001B[39m\u001B[32mIn[3]\u001B[39m\u001B[32m, line 1\u001B[39m\n\u001B[31m    \u001B[39m\u001B[31mALTER USER 'root'@'localhost'\u001B[39m\n          ^\n\u001B[31mSyntaxError\u001B[39m\u001B[31m:\u001B[39m invalid syntax\n"
     ]
    }
   ],
   "execution_count": 3
  }
 ],
 "metadata": {
  "kernelspec": {
   "display_name": "Python 3",
   "language": "python",
   "name": "python3"
  },
  "language_info": {
   "codemirror_mode": {
    "name": "ipython",
    "version": 2
   },
   "file_extension": ".py",
   "mimetype": "text/x-python",
   "name": "python",
   "nbconvert_exporter": "python",
   "pygments_lexer": "ipython2",
   "version": "2.7.6"
  }
 },
 "nbformat": 4,
 "nbformat_minor": 5
}
