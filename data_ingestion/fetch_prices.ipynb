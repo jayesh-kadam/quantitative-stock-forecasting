{
 "cells": [
  {
   "metadata": {},
   "cell_type": "code",
   "source": [
    "\"\"\"\n",
    "fetch_prices.py\n",
    "\n",
    "Fetches daily stock price data (non-adjusted) from Alpha Vantage and stores it in PostgreSQL.\n",
    "\"\"\"\n",
    "\n",
    "import os\n",
    "import requests\n",
    "from datetime import datetime\n",
    "from sqlalchemy import create_engine\n",
    "from sqlalchemy.orm import sessionmaker\n",
    "from dotenv import load_dotenv\n",
    "from models.price_data_model import Base, PriceData\n",
    "\n",
    "# Load environment variables\n",
    "load_dotenv()"
   ],
   "id": "5f190731117e427a",
   "outputs": [],
   "execution_count": null
  },
  {
   "cell_type": "code",
   "execution_count": 15,
   "outputs": [
    {
     "name": "stdout",
     "output_type": "stream",
     "text": [
      "Inserted 6441 price records for NVDA\n"
     ]
    }
   ],
   "source": [
    "\n",
    "\n",
    "# Configuration\n",
    "API_KEY = os.getenv(\"ALPHA_VANTAGE_API_KEY\")\n",
    "BASE_URL = 'https://www.alphavantage.co/query'\n",
    "DATABASE_URL = os.getenv(\"DATABASE_URL\")\n",
    "\n",
    "# SQLAlchemy setup\n",
    "engine = create_engine(DATABASE_URL)\n",
    "Session = sessionmaker(bind=engine)\n",
    "session = Session()\n",
    "\n",
    "def fetch_daily_prices(ticker):\n",
    "    \"\"\"Fetch daily stock prices (not adjusted) from Alpha Vantage and store in DB.\"\"\"\n",
    "    params = {\n",
    "        'function': 'TIME_SERIES_DAILY',\n",
    "        'symbol': ticker,\n",
    "        'outputsize': 'full',\n",
    "        'apikey': API_KEY\n",
    "    }\n",
    "\n",
    "    response = requests.get(BASE_URL, params=params)\n",
    "    if response.status_code != 200:\n",
    "        raise Exception(f\"API request failed: {response.status_code}\")\n",
    "\n",
    "    json_data = response.json()\n",
    "\n",
    "    # Debug: Check if API returned valid data\n",
    "    if 'Time Series (Daily)' not in json_data:\n",
    "        print(\"API Error Response:\", json_data)\n",
    "        raise ValueError(f\"No data returned for ticker {ticker}\")\n",
    "\n",
    "    data = json_data['Time Series (Daily)']\n",
    "    records = []\n",
    "\n",
    "    for date_str, values in data.items():\n",
    "        record = PriceData(\n",
    "            ticker=ticker,\n",
    "            date=datetime.strptime(date_str, '%Y-%m-%d').date(),\n",
    "            open=float(values['1. open']),\n",
    "            high=float(values['2. high']),\n",
    "            low=float(values['3. low']),\n",
    "            close=float(values['4. close']),\n",
    "            adjusted_close=None,  # Not available in this endpoint\n",
    "            volume=int(values['5. volume']),\n",
    "            source_api='Alpha Vantage',\n",
    "            interval='1d',\n",
    "            currency='USD',\n",
    "            data_type='historical',\n",
    "            created_at=datetime.utcnow()\n",
    "        )\n",
    "        records.append(record)\n",
    "\n",
    "    session.bulk_save_objects(records)\n",
    "    session.commit()\n",
    "    print(f\"Inserted {len(records)} price records for {ticker}\")\n",
    "\n",
    "if __name__ == '__main__':\n",
    "    Base.metadata.create_all(engine)\n",
    "    fetch_daily_prices('NVDA')  # Use demo-compatible ticker\n"
   ],
   "metadata": {
    "collapsed": false,
    "ExecuteTime": {
     "end_time": "2025-06-11T11:23:56.906Z",
     "start_time": "2025-06-11T11:23:55.319788Z"
    }
   },
   "id": "bf9d4ceb5f11e17a"
  },
  {
   "cell_type": "code",
   "execution_count": 15,
   "outputs": [],
   "source": [],
   "metadata": {
    "collapsed": false,
    "ExecuteTime": {
     "end_time": "2025-06-11T11:23:56.909380Z",
     "start_time": "2025-06-11T11:23:56.902861Z"
    }
   },
   "id": "352f2434b599f625"
  },
  {
   "cell_type": "code",
   "execution_count": null,
   "outputs": [],
   "source": [],
   "metadata": {
    "collapsed": false
   },
   "id": "eb282742ce1de1"
  }
 ],
 "metadata": {
  "kernelspec": {
   "display_name": "Python 3",
   "language": "python",
   "name": "python3"
  },
  "language_info": {
   "codemirror_mode": {
    "name": "ipython",
    "version": 2
   },
   "file_extension": ".py",
   "mimetype": "text/x-python",
   "name": "python",
   "nbconvert_exporter": "python",
   "pygments_lexer": "ipython2",
   "version": "2.7.6"
  }
 },
 "nbformat": 4,
 "nbformat_minor": 5
}
