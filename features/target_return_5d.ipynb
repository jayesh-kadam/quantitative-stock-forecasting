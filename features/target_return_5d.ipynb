{
 "cells": [
  {
   "cell_type": "code",
   "id": "initial_id",
   "metadata": {
    "collapsed": true,
    "ExecuteTime": {
     "end_time": "2025-06-19T11:04:01.232881Z",
     "start_time": "2025-06-19T11:03:59.261513Z"
    }
   },
   "source": [
    "import pandas as pd\n",
    "from sqlalchemy import create_engine\n",
    "from dotenv import load_dotenv\n",
    "import os\n",
    "\n",
    "# Load .env and DB\n",
    "load_dotenv()\n",
    "DATABASE_URL = os.getenv(\"DATABASE_URL\")\n",
    "engine = create_engine(DATABASE_URL)\n",
    "\n",
    "# Load merged data\n",
    "df = pd.read_sql(\"SELECT * FROM merged_features\", engine, parse_dates=[\"date\"])\n",
    "\n",
    "# Sort before shifting\n",
    "df = df.sort_values([\"ticker\", \"date\"])\n",
    "\n",
    "# Calculate 5-day forward return\n",
    "df[\"future_close\"] = df.groupby(\"ticker\")[\"close\"].shift(-5)\n",
    "df[\"target_return_5d\"] = (df[\"future_close\"] - df[\"close\"]) / df[\"close\"]\n",
    "\n",
    "# Drop helper column\n",
    "df.drop(columns=[\"future_close\"], inplace=True)\n",
    "\n",
    "# Save updated features\n",
    "df.to_sql(\"merged_features\", engine, if_exists=\"replace\", index=False)\n",
    "print(f\"✅ target_return_5d added to merged_features table.\")"
   ],
   "outputs": [
    {
     "name": "stdout",
     "output_type": "stream",
     "text": [
      "✅ target_return_5d added to merged_features table.\n"
     ]
    }
   ],
   "execution_count": 1
  }
 ],
 "metadata": {
  "kernelspec": {
   "display_name": "Python 3",
   "language": "python",
   "name": "python3"
  },
  "language_info": {
   "codemirror_mode": {
    "name": "ipython",
    "version": 2
   },
   "file_extension": ".py",
   "mimetype": "text/x-python",
   "name": "python",
   "nbconvert_exporter": "python",
   "pygments_lexer": "ipython2",
   "version": "2.7.6"
  }
 },
 "nbformat": 4,
 "nbformat_minor": 5
}
