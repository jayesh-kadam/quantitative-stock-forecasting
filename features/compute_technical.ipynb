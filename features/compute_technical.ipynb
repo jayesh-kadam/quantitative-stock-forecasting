{
 "cells": [
  {
   "cell_type": "code",
   "id": "initial_id",
   "metadata": {
    "collapsed": true,
    "ExecuteTime": {
     "end_time": "2025-06-18T10:39:39.971085Z",
     "start_time": "2025-06-18T10:39:36.992176Z"
    }
   },
   "source": [
    "\"\"\"\n",
    "compute_technical.py\n",
    "\n",
    "Computes technical indicators from price_data and writes the results to a new PostgreSQL table.\n",
    "\"\"\"\n",
    "\n",
    "import pandas as pd\n",
    "from sqlalchemy import create_engine, text\n",
    "from sqlalchemy.orm import sessionmaker\n",
    "from dotenv import load_dotenv\n",
    "import os\n",
    "\n",
    "# Load environment variables\n",
    "load_dotenv()\n",
    "DATABASE_URL = os.getenv(\"DATABASE_URL\")\n",
    "\n",
    "# Setup DB connection\n",
    "engine = create_engine(DATABASE_URL)\n",
    "Session = sessionmaker(bind=engine)\n",
    "session = Session()\n",
    "\n",
    "# Load price data\n",
    "query = \"\"\"\n",
    "SELECT ticker, date, close, volume\n",
    "FROM price_data\n",
    "ORDER BY ticker, date ASC;\n",
    "\"\"\"\n",
    "df = pd.read_sql(query, engine, parse_dates=[\"date\"])\n",
    "\n",
    "# Compute technical indicators per ticker\n",
    "def compute_indicators(group):\n",
    "    group = group.sort_values(\"date\").copy()\n",
    "    group[\"return_1d\"] = group[\"close\"].pct_change()\n",
    "    group[\"sma_5\"] = group[\"close\"].rolling(window=5).mean()\n",
    "    group[\"sma_20\"] = group[\"close\"].rolling(window=20).mean()\n",
    "    group[\"ema_10\"] = group[\"close\"].ewm(span=10, adjust=False).mean()\n",
    "    group[\"rsi_14\"] = compute_rsi(group[\"close\"], 14)\n",
    "    group[\"macd\"] = group[\"close\"].ewm(span=12, adjust=False).mean() - group[\"close\"].ewm(span=26, adjust=False).mean()\n",
    "    return group\n",
    "\n",
    "# RSI function\n",
    "def compute_rsi(series, period=14):\n",
    "    delta = series.diff()\n",
    "    gain = delta.where(delta > 0, 0).rolling(window=period).mean()\n",
    "    loss = -delta.where(delta < 0, 0).rolling(window=period).mean()\n",
    "    rs = gain / loss\n",
    "    return 100 - (100 / (1 + rs))\n",
    "\n",
    "# Clean and apply without warning or dropping 'ticker'\n",
    "features_df = (\n",
    "    df.groupby(\"ticker\", group_keys=False)\n",
    "    .apply(compute_indicators)\n",
    "    .reset_index(drop=True)\n",
    ")\n",
    "\n",
    "# Drop duplicates before inserting\n",
    "unique_keys = features_df[['ticker', 'date']].drop_duplicates()\n",
    "\n",
    "for i in range(len(unique_keys)):\n",
    "    ticker = unique_keys.iloc[i]['ticker']\n",
    "    date_val = pd.to_datetime(unique_keys.iloc[i]['date']).date()\n",
    "\n",
    "    session.execute(\n",
    "        text(\"DELETE FROM technical_features WHERE ticker = :ticker AND date = :date\"),\n",
    "        {\"ticker\": ticker, \"date\": date_val}\n",
    "    )\n",
    "session.commit()\n",
    "\n",
    "# Append new data\n",
    "features_df.to_sql('technical_features', engine, if_exists='append', index=False)\n",
    "print(\"✅ Technical features deduplicated and saved to 'technical_features' table in PostgreSQL\")\n"
   ],
   "outputs": [
    {
     "name": "stderr",
     "output_type": "stream",
     "text": [
      "/var/folders/3y/jcf5sjb1319blyc1b_cfn1xm0000gn/T/ipykernel_66624/3128870013.py:52: FutureWarning: DataFrameGroupBy.apply operated on the grouping columns. This behavior is deprecated, and in a future version of pandas the grouping columns will be excluded from the operation. Either pass `include_groups=False` to exclude the groupings or explicitly select the grouping columns after groupby to silence this warning.\n",
      "  .apply(compute_indicators)\n"
     ]
    },
    {
     "name": "stdout",
     "output_type": "stream",
     "text": [
      "✅ Technical features deduplicated and saved to 'technical_features' table in PostgreSQL\n"
     ]
    }
   ],
   "execution_count": 32
  }
 ],
 "metadata": {
  "kernelspec": {
   "display_name": "Python 3",
   "language": "python",
   "name": "python3"
  },
  "language_info": {
   "codemirror_mode": {
    "name": "ipython",
    "version": 2
   },
   "file_extension": ".py",
   "mimetype": "text/x-python",
   "name": "python",
   "nbconvert_exporter": "python",
   "pygments_lexer": "ipython2",
   "version": "2.7.6"
  }
 },
 "nbformat": 4,
 "nbformat_minor": 5
}
