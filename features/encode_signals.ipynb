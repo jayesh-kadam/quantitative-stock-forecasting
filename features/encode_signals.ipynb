{
 "cells": [
  {
   "cell_type": "code",
   "id": "initial_id",
   "metadata": {
    "collapsed": true,
    "ExecuteTime": {
     "end_time": "2025-06-19T11:06:50.409036Z",
     "start_time": "2025-06-19T11:06:48.743326Z"
    }
   },
   "source": [
    "import pandas as pd\n",
    "from sqlalchemy import create_engine\n",
    "from dotenv import load_dotenv\n",
    "import os\n",
    "\n",
    "# Load environment variables\n",
    "load_dotenv()\n",
    "DATABASE_URL = os.getenv(\"DATABASE_URL\")\n",
    "engine = create_engine(DATABASE_URL)\n",
    "\n",
    "# Load merged features with target_return_5d\n",
    "df = pd.read_sql(\"SELECT * FROM merged_features\", engine, parse_dates=[\"date\"])\n",
    "\n",
    "# Check if target_return_5d is present\n",
    "if 'target_return_5d' not in df.columns:\n",
    "    raise Exception(\"target_return_5d not found. Run label generation first.\")\n",
    "\n",
    "# Encode signals\n",
    "def encode_signal(r):\n",
    "    if r > 0.015:\n",
    "        return 'BUY'\n",
    "    elif r < -0.015:\n",
    "        return 'SELL'\n",
    "    else:\n",
    "        return 'HOLD'\n",
    "\n",
    "df['trade_signal'] = df['target_return_5d'].apply(encode_signal)\n",
    "\n",
    "# Save back to DB as final_features\n",
    "df.to_sql(\"merged_features\", engine, if_exists=\"replace\", index=False)\n",
    "print(f\"✅ Trade signals encoded and saved to final_features ({len(df)} rows)\")"
   ],
   "outputs": [
    {
     "name": "stdout",
     "output_type": "stream",
     "text": [
      "✅ Trade signals encoded and saved to final_features (6643 rows)\n"
     ]
    }
   ],
   "execution_count": 3
  }
 ],
 "metadata": {
  "kernelspec": {
   "display_name": "Python 3",
   "language": "python",
   "name": "python3"
  },
  "language_info": {
   "codemirror_mode": {
    "name": "ipython",
    "version": 2
   },
   "file_extension": ".py",
   "mimetype": "text/x-python",
   "name": "python",
   "nbconvert_exporter": "python",
   "pygments_lexer": "ipython2",
   "version": "2.7.6"
  }
 },
 "nbformat": 4,
 "nbformat_minor": 5
}
